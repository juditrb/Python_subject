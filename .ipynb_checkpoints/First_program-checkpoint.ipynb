{
 "cells": [
  {
   "cell_type": "code",
   "execution_count": 1,
   "id": "3745a8ef-2087-4d61-9e76-a9089e85aeb4",
   "metadata": {},
   "outputs": [
    {
     "name": "stdout",
     "output_type": "stream",
     "text": [
      "Hello, World!\n"
     ]
    }
   ],
   "source": [
    "print(\"Hello, World!\")"
   ]
  },
  {
   "cell_type": "code",
   "execution_count": 5,
   "id": "654693bd-1bd8-4ea1-b8cf-f88e6b6781ed",
   "metadata": {},
   "outputs": [
    {
     "ename": "SyntaxError",
     "evalue": "invalid syntax (113737174.py, line 2)",
     "output_type": "error",
     "traceback": [
      "\u001b[0;36m  Cell \u001b[0;32mIn[5], line 2\u001b[0;36m\u001b[0m\n\u001b[0;31m    <class 'int'> # everything in quotes is a string\u001b[0m\n\u001b[0m    ^\u001b[0m\n\u001b[0;31mSyntaxError\u001b[0m\u001b[0;31m:\u001b[0m invalid syntax\n"
     ]
    }
   ],
   "source": [
    ">>> type(1)\n",
    "<class 'int'> # everything in quotes is a string\n",
    ">>> type(3.14)\n",
    "<class 'float'>\n",
    ">>> type(\"hello world!\")\n",
    "<class 'str'>\n",
    ">>> type(\"3.14\")\n",
    "<class 'str'> "
   ]
  },
  {
   "cell_type": "code",
   "execution_count": null,
   "id": "5c051242-0216-49cb-b078-9e747a7d1626",
   "metadata": {},
   "outputs": [],
   "source": [
    "##Variable assignment\n",
    ">>> message = \"This is my first variable assignation\"\n",
    ">>> type(message)\n",
    "<class 'str'>\n",
    "\n",
    "#True --> T and false --> F"
   ]
  },
  {
   "cell_type": "code",
   "execution_count": null,
   "id": "4b797eb8-5a18-449a-ba65-39e143c8afe6",
   "metadata": {},
   "outputs": [],
   "source": [
    "# we cannot use the following words as a variable names --> otherwise, it prints an error message\n",
    "#False class finally is return\n",
    "#None continue for lambda try\n",
    "#True def from nonlocal while\n",
    "#and del global not with\n",
    "#as elif if or yield\n",
    "#assert else import pass\n",
    "#break except in raise"
   ]
  },
  {
   "cell_type": "code",
   "execution_count": null,
   "id": "1b2a51f4-9bc0-4acf-a5cf-721017dd6b8f",
   "metadata": {},
   "outputs": [],
   "source": [
    "#Using keywords\n",
    ">>> and=3\n",
    "File \"<stdin>\", line 1\n",
    "and=3\n",
    "^\n",
    "SyntaxError: invalid syntax\n",
    "\n",
    ">>> 3a=\"hello\"\n",
    "File \"<stdin>\", line 1\n",
    "3a=\"hello\"\n",
    "^\n",
    "SyntaxError: invalid syntax"
   ]
  },
  {
   "cell_type": "code",
   "execution_count": null,
   "id": "e1dafe90-6229-4e4b-80b8-5d59efdd03fe",
   "metadata": {},
   "outputs": [],
   "source": [
    "#Statement\n"
   ]
  },
  {
   "cell_type": "code",
   "execution_count": 3,
   "id": "290742a0-df17-4ad8-a11d-cf6fbee7d18a",
   "metadata": {},
   "outputs": [
    {
     "data": {
      "text/plain": [
       "'hellogoodbye'"
      ]
     },
     "execution_count": 3,
     "metadata": {},
     "output_type": "execute_result"
    }
   ],
   "source": [
    ">>> \"hello\"+\"goodbye\"\n",
    "'hellogoodbye'"
   ]
  },
  {
   "cell_type": "code",
   "execution_count": 4,
   "id": "8f21029b-ef2b-4d42-a9d0-a40b9fb6fed2",
   "metadata": {},
   "outputs": [
    {
     "data": {
      "text/plain": [
       "'hellohellohello'"
      ]
     },
     "execution_count": 4,
     "metadata": {},
     "output_type": "execute_result"
    }
   ],
   "source": [
    ">>> \"hello\"*3\n",
    "'hellohellohello'"
   ]
  },
  {
   "cell_type": "code",
   "execution_count": 7,
   "id": "fdd8b292-b178-4534-841b-a9d40f06c679",
   "metadata": {},
   "outputs": [
    {
     "name": "stdout",
     "output_type": "stream",
     "text": [
      "v\n"
     ]
    }
   ],
   "source": [
    ">>> v = 5 # velocity in meters/second\n",
    "print(\"v\")"
   ]
  },
  {
   "cell_type": "code",
   "execution_count": 8,
   "id": "84be7966-75f3-40e0-b411-5c8ce8aa0714",
   "metadata": {},
   "outputs": [
    {
     "ename": "IndentationError",
     "evalue": "expected an indented block (1034304356.py, line 3)",
     "output_type": "error",
     "traceback": [
      "\u001b[0;36m  Cell \u001b[0;32mIn[8], line 3\u001b[0;36m\u001b[0m\n\u001b[0;31m    print(\"x is equal to 5”)\u001b[0m\n\u001b[0m    ^\u001b[0m\n\u001b[0;31mIndentationError\u001b[0m\u001b[0;31m:\u001b[0m expected an indented block\n"
     ]
    }
   ],
   "source": [
    ">>> x = 5\n",
    ">>> if x==5: # condition expression to evaluate true or false\n",
    "... print(\"x is equal to 5”)\n",
    "...\n",
    "x is equal to 5"
   ]
  },
  {
   "cell_type": "code",
   "execution_count": 12,
   "id": "f755154f-1ec7-429d-9d9e-7f25e4abaee3",
   "metadata": {},
   "outputs": [
    {
     "name": "stdout",
     "output_type": "stream",
     "text": [
      "ok\n"
     ]
    }
   ],
   "source": [
    "if 5: \n",
    "    print(\"ok\") "
   ]
  },
  {
   "cell_type": "code",
   "execution_count": 13,
   "id": "57f05686-c001-4e4d-b293-b2c94e03d58d",
   "metadata": {},
   "outputs": [
    {
     "name": "stdout",
     "output_type": "stream",
     "text": [
      "ok\n"
     ]
    }
   ],
   "source": [
    "if \"hello\": \n",
    "    print(\"ok\")"
   ]
  },
  {
   "cell_type": "code",
   "execution_count": 14,
   "id": "7b12ce58-d575-4a29-afa6-74490e2cc3f8",
   "metadata": {},
   "outputs": [],
   "source": [
    "if 0: \n",
    "    print(\"ok\") # using 0 the code doesn't be run"
   ]
  },
  {
   "cell_type": "code",
   "execution_count": 17,
   "id": "9974eaec-985a-4f8b-a5a4-1e21366518f9",
   "metadata": {},
   "outputs": [
    {
     "ename": "SyntaxError",
     "evalue": "EOL while scanning string literal (3716655719.py, line 3)",
     "output_type": "error",
     "traceback": [
      "\u001b[0;36m  Cell \u001b[0;32mIn[17], line 3\u001b[0;36m\u001b[0m\n\u001b[0;31m    print(\"x is lower than 10”)\u001b[0m\n\u001b[0m                               ^\u001b[0m\n\u001b[0;31mSyntaxError\u001b[0m\u001b[0;31m:\u001b[0m EOL while scanning string literal\n"
     ]
    }
   ],
   "source": [
    ">>> x = 5\n",
    ">>> if x<10:\n",
    "    print(\"x is lower than 10”)\n",
    "    if x<6:\n",
    "    print(\"x is lower than 6”)\n",
    "    else:\n",
    "    print(\"x ix greater or equal than 10”)\n",
    "x is lower than 10\n",
    "x is lower than 6"
   ]
  },
  {
   "cell_type": "code",
   "execution_count": 18,
   "id": "d733746a-fa09-444d-a370-e564aaa1b29d",
   "metadata": {},
   "outputs": [
    {
     "ename": "SyntaxError",
     "evalue": "EOL while scanning string literal (967522993.py, line 3)",
     "output_type": "error",
     "traceback": [
      "\u001b[0;36m  Cell \u001b[0;32mIn[18], line 3\u001b[0;36m\u001b[0m\n\u001b[0;31m    print(\"x is less than 5”)\u001b[0m\n\u001b[0m                             ^\u001b[0m\n\u001b[0;31mSyntaxError\u001b[0m\u001b[0;31m:\u001b[0m EOL while scanning string literal\n"
     ]
    }
   ],
   "source": [
    ">>> x = 5\n",
    ">>> if x < 5:\n",
    "    print(\"x is less than 5”)\n",
    "    else:\n",
    "    if x==5:\n",
    "    print(\"x is equal to five”)\n",
    "    else:\n",
    "    print(\"x is greater than five”)\n",
    "          \n",
    "x is equal to five"
   ]
  },
  {
   "cell_type": "code",
   "execution_count": 24,
   "id": "7806d4f6-bb17-400c-87d9-24af4bf856dd",
   "metadata": {},
   "outputs": [
    {
     "name": "stdout",
     "output_type": "stream",
     "text": [
      "I am executing my first function!\n"
     ]
    }
   ],
   "source": [
    "def my_first_function():\n",
    "    \"\"\"This is my first function. It prints a message.\"\"\"\n",
    "print(\"I am executing my first function!\")"
   ]
  },
  {
   "cell_type": "code",
   "execution_count": 28,
   "id": "ecb9dba1-324d-4cae-8033-85c4ddbf91b4",
   "metadata": {},
   "outputs": [
    {
     "ename": "SyntaxError",
     "evalue": "invalid syntax (845051659.py, line 2)",
     "output_type": "error",
     "traceback": [
      "\u001b[0;36m  Cell \u001b[0;32mIn[28], line 2\u001b[0;36m\u001b[0m\n\u001b[0;31m    <function my_first_function at 0x10c983230>\u001b[0m\n\u001b[0m    ^\u001b[0m\n\u001b[0;31mSyntaxError\u001b[0m\u001b[0;31m:\u001b[0m invalid syntax\n"
     ]
    }
   ],
   "source": [
    "my_first_function\n",
    "<function my_first_function at 0x10c983230>\n",
    "my_first_function()\n",
    "    I am executing my first function!\n",
    "result = my_first_function()\n",
    "    I am executing my first function!\n",
    "\n",
    "print(result)\n",
    "None"
   ]
  },
  {
   "cell_type": "code",
   "execution_count": 39,
   "id": "7ea59f3e-6651-4ba5-bb91-65c7e00efd65",
   "metadata": {},
   "outputs": [
    {
     "name": "stdout",
     "output_type": "stream",
     "text": [
      "Xavi Jalencas\n"
     ]
    }
   ],
   "source": [
    "def get_formatted_name(name, surname):\n",
    "    \"Returns a string with the formatted name\"\n",
    "    return name + \" \" + surname\n",
    "\n",
    "get_formatted_name(\"Xavi\",\"Jalencas\")\n",
    "\n",
    "s = get_formatted_name(\"Xavi\",\"Jalencas\")\n",
    "print(s)\n"
   ]
  },
  {
   "cell_type": "code",
   "execution_count": 42,
   "id": "5899108d-4e18-4649-afd2-e577ec1caaad",
   "metadata": {},
   "outputs": [
    {
     "ename": "SyntaxError",
     "evalue": "invalid syntax (3250841402.py, line 8)",
     "output_type": "error",
     "traceback": [
      "\u001b[0;36m  Cell \u001b[0;32mIn[42], line 8\u001b[0;36m\u001b[0m\n\u001b[0;31m    Traceback (most recent call last):\u001b[0m\n\u001b[0m                    ^\u001b[0m\n\u001b[0;31mSyntaxError\u001b[0m\u001b[0;31m:\u001b[0m invalid syntax\n"
     ]
    }
   ],
   "source": [
    "# Variables scope. A variable used inside a function, is local. It is not “visible” outside the function\n",
    "def concatenate(string1, string2):\n",
    "    cat = string1+string2\n",
    "    return cat\n",
    "\n",
    "print(cat)\n",
    "\n",
    "Traceback (most recent call last):\n",
    "    File \"<stdin>\", line 1, in <module>\n",
    "NameError: name 'cat' is not defined"
   ]
  },
  {
   "cell_type": "code",
   "execution_count": 43,
   "id": "d9d44145-6342-4012-9e65-2d32bda9fdec",
   "metadata": {},
   "outputs": [
    {
     "name": "stdout",
     "output_type": "stream",
     "text": [
      "hello\n",
      "world\n",
      "asdjah\"adsas\n"
     ]
    }
   ],
   "source": [
    "a=\"hello\\nworld\"\n",
    "print(a)\n",
    "\n",
    "b = \"asdjah\\\"adsas\"\n",
    "print(b)\n"
   ]
  },
  {
   "cell_type": "code",
   "execution_count": 44,
   "id": "57f31b8b-25a9-433b-aeb2-953b22885160",
   "metadata": {},
   "outputs": [
    {
     "data": {
      "text/plain": [
       "'biomedicalinformatics'"
      ]
     },
     "execution_count": 44,
     "metadata": {},
     "output_type": "execute_result"
    }
   ],
   "source": [
    "#concatenate\n",
    "word1 = \"biomedical\"\n",
    "word2 = \"informatics\"\n",
    "word1 + word2\n",
    "'biomedicalinformatics'"
   ]
  },
  {
   "cell_type": "code",
   "execution_count": 51,
   "id": "36b2686f-5dd5-46fc-890b-ea95b2575b83",
   "metadata": {},
   "outputs": [
    {
     "name": "stdout",
     "output_type": "stream",
     "text": [
      "I\n",
      "C\n",
      "BIOI\n",
      "INFORMATICS\n",
      "BIOINFORMATIC\n",
      "BONOMTC\n"
     ]
    },
    {
     "data": {
      "text/plain": [
       "14"
      ]
     },
     "execution_count": 51,
     "metadata": {},
     "output_type": "execute_result"
    }
   ],
   "source": [
    "\n",
    "# Slice: segment of a string. [Start index:End index+1:step]\n",
    "word = \"BIOINFORMATICS\"\n",
    "print(word[3]) #reverse sense\n",
    "print(word[-2]) # inverse sense\n",
    "\n",
    "print(word[0:4])\n",
    "\n",
    "print(word[3:])\n",
    "\n",
    "print(word[:-1])\n",
    "\n",
    "print(word[::2]) #parells\n",
    "\n",
    "len(word)\n",
    "\n"
   ]
  },
  {
   "cell_type": "code",
   "execution_count": 50,
   "id": "18107ef8-0867-4da7-b131-58a636f9cd2f",
   "metadata": {},
   "outputs": [
    {
     "ename": "IndentationError",
     "evalue": "unexpected indent (1329048764.py, line 3)",
     "output_type": "error",
     "traceback": [
      "\u001b[0;36m  Cell \u001b[0;32mIn[50], line 3\u001b[0;36m\u001b[0m\n\u001b[0;31m    File \"<stdin>\", line 1, in <module>\u001b[0m\n\u001b[0m    ^\u001b[0m\n\u001b[0;31mIndentationError\u001b[0m\u001b[0;31m:\u001b[0m unexpected indent\n"
     ]
    }
   ],
   "source": [
    "# strings are inmutable\n",
    "word[3]=\"B\"\n",
    "Traceback (most recent call last):\n",
    "    File \"<stdin>\", line 1, in <module>\n",
    "TypeError: 'str' object does not support item\n",
    "assignment"
   ]
  },
  {
   "cell_type": "code",
   "execution_count": 52,
   "id": "7960a294-d92a-41ba-8f5e-c9058bdb1645",
   "metadata": {},
   "outputs": [
    {
     "name": "stdout",
     "output_type": "stream",
     "text": [
      "0 : B\n",
      "1 : I\n",
      "2 : O\n",
      "3 : I\n",
      "4 : N\n",
      "5 : F\n",
      "6 : O\n",
      "7 : R\n",
      "8 : M\n",
      "9 : A\n",
      "10 : T\n",
      "11 : I\n",
      "12 : C\n",
      "13 : S\n"
     ]
    }
   ],
   "source": [
    "# Traversal of a string\n",
    "i = 0\n",
    "while i<len(word):\n",
    "    print(i,\":\",word[i])\n",
    "    i+=1\n"
   ]
  },
  {
   "cell_type": "code",
   "execution_count": 54,
   "id": "c770d3af-4894-4864-9b06-07518f5b25c5",
   "metadata": {},
   "outputs": [
    {
     "name": "stdout",
     "output_type": "stream",
     "text": [
      "B\n",
      "I\n",
      "O\n",
      "I\n",
      "N\n",
      "F\n",
      "O\n",
      "R\n",
      "M\n",
      "A\n",
      "T\n",
      "I\n",
      "C\n",
      "S\n"
     ]
    }
   ],
   "source": [
    "# Traversal of string: for.. in..\n",
    "\n",
    "for character in word:\n",
    "    print(character)\n",
    "    "
   ]
  },
  {
   "cell_type": "code",
   "execution_count": null,
   "id": "4538ab90-68e1-4c6d-b400-1406ad65d47d",
   "metadata": {},
   "outputs": [],
   "source": []
  }
 ],
 "metadata": {
  "kernelspec": {
   "display_name": "Python 3 (ipykernel)",
   "language": "python",
   "name": "python3"
  },
  "language_info": {
   "codemirror_mode": {
    "name": "ipython",
    "version": 3
   },
   "file_extension": ".py",
   "mimetype": "text/x-python",
   "name": "python",
   "nbconvert_exporter": "python",
   "pygments_lexer": "ipython3",
   "version": "3.8.18"
  }
 },
 "nbformat": 4,
 "nbformat_minor": 5
}
