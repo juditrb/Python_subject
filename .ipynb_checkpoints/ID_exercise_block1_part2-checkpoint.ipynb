{
 "cells": [
  {
   "cell_type": "code",
   "execution_count": null,
   "id": "2c5bb9f1-c8c9-44bc-b4cc-9f43a5da8263",
   "metadata": {},
   "outputs": [],
   "source": [
    "#Input file: multi-line FASTA file:\n",
    "#Input file example:\n",
    "    "
   ]
  },
  {
   "cell_type": "code",
   "execution_count": 8,
   "id": "48ccf9ab-462d-4921-aa8c-19dda3c219ce",
   "metadata": {},
   "outputs": [
    {
     "name": "stdout",
     "output_type": "stream",
     "text": [
      "Ratio: 0.27450980392156865\n"
     ]
    }
   ],
   "source": [
    "#Create a python script called ID_exercise_block1_part2.py with\n",
    "#the following functions:\n",
    "#1. Given a multi-line protein FASTA file (stored in a file with path defined filename), returns a\n",
    "#float corresponding to the ratio of proteins in the fasta file having a relative frequency higher\n",
    "#or equal than a given threshold provided as an argument named “relative_threshold” and\n",
    "#having an absolute frequency of the same residue higher or equal than a given threshold\n",
    "#provided as an argument named “absolute_threshold” for a given residue. The function\n",
    "#should be named as follows, with the same arguments definition:\n",
    "\n",
    "def get_proteins_ratio_by_residue_threshold(filename, residue, relative_threshold=0.03, absolute_threshold=10):\n",
    "    def frequencies_calcul(protein, residue): # 'Frequencies_calcul' function is defined to calculate the relative/absolute frequency depending on protein and residue variables\n",
    "        absolute = protein.count(residue) # The absolute frequency is calculated through counting the quantity of a specific residue in a protein \n",
    "        relative = absolute / len(protein) if len(protein) > 0 else 0 # The relative frequency is calculated by the division of the absolute frequency and the protein length\n",
    "        return absolute, relative\n",
    "    \n",
    "    with open(filename, 'r') as fd:\n",
    "        file = fd.read()\n",
    "        proteins = file.split(\">\")[1:] # This command is spliting the entire file using \">\" as a delimiter, to diferenciate one protein to another (next to the \">\" symbol the protein identifier and the protein sequence are found)\n",
    "            #each \"proteins\" element is a protein sequence entry\n",
    "        proteins = [protein.split(\"\\n\", 1)[1].replace(\"\\n\", \"\") for protein in proteins if protein] # Each protein entry is split into two parts: the header line and the sequence, [1] is selecting the second element of the split\n",
    "        #The \"replace\" part concatenates the sequence into a continuous string and the \"for\" loop is iterating over each protein, only if it is not empty\n",
    "        #print(count_proteins)\n",
    "        #print(proteins)\n",
    "        \n",
    "        total_proteins = len(proteins)\n",
    "        if total_proteins == 0:\n",
    "            return 0\n",
    "        \n",
    "        protein_match = 0 #Initialization of protein_match variable\n",
    "        \n",
    "        for protein in proteins: # In this loop it is calculated the absolute and relative frequencies and they are compared to the absolute/relative threshold previously defined\n",
    "            absolute, relative = frequencies_calcul(protein, residue)\n",
    "            if absolute >= absolute_threshold and relative >= relative_threshold: #If both premises are met, the \"protein match\" variable increments the counter plus 1\n",
    "                protein_match += 1\n",
    "                \n",
    "        return protein_match / total_proteins if total_proteins > 0 else 0\n",
    "        \n",
    "ratio = get_proteins_ratio_by_residue_threshold('example_fasta_file.fa', \"M\") #It is returned the ratio value depending on the residue we are interested in and the fa/fasta file used\n",
    "print(\"Ratio:\", ratio)"
   ]
  },
  {
   "cell_type": "code",
   "execution_count": 7,
   "id": "6892e582-f1ab-4687-8108-d1fe83a38a57",
   "metadata": {},
   "outputs": [],
   "source": [
    "#2.Given a protein FASTA file (filename), save on a output file named output_filename the\n",
    "#protein identifier, the first N-aminoacids, the last M-aminoacids and the absolute frequency\n",
    "#in the protein of all the aminoacids found in the protein (the aminoacids that do not appear\n",
    "#in the protein should not be shown). The fields must be separated by a tabulator, and one\n",
    "#protein by line.\n",
    "\n",
    "def print_sequence_summary(filename, output_filename, first_n=10, last_m=10):\n",
    "    \n",
    "    with open(filename, 'r') as fd:\n",
    "        proteins = fd.read().split(\">\")[1:]\n",
    "        #print(proteins)\n",
    "    \n",
    "        with open(output_filename, \"w\") as out_file:\n",
    "            for protein in proteins:\n",
    "                if protein:\n",
    "                    lines = protein.split(\"\\n\") # The 'protein' string is including the content of a protein entry including the identifier and the sequence lines\n",
    "                    protein_id = lines[0]  # The protein identifier is in the first line 'lines[0]'\n",
    "                    #print(protein_id)\n",
    "                    sequence = ''.join(lines[1:]) # The sequence variable stores the protein sequences without the identifier, it goes from lines[1] to the end of the corresponding protein sequence\n",
    "                    #print(sequence)\n",
    "                    \n",
    "                    first_n_aa = sequence[:first_n] # The first/last residues of the protein sequence shown in the output depend on the value of the variable defined in the function\n",
    "                    last_m_aa = sequence[-last_m:]\n",
    "                    \n",
    "                    aa_freq = {} #creating a dictionary to store amino acid frequencies\n",
    "                    for aa in sequence:\n",
    "                        if aa in aa_freq: # If the current amino acid is present in amino acid frequency dictionary, add one to the counter for that amino acid, if the amino acid is not in the dictionary, add it and set it to 1\n",
    "                            aa_freq[aa] += 1\n",
    "                        else: \n",
    "                            aa_freq[aa] = 1\n",
    "                    aa_freq_string = ','.join([f\"{aa}:{aa_freq[aa]}\" for aa in aa_freq]) # For each amino acid in aa frequency dictionary, put together the amino acids with their frequency using a tabulator (the aa: frequency)\n",
    "                \n",
    "                    out_file.write(f\"{protein_id}\\t{first_n_aa}\\t{last_m_aa}\\t{aa_freq_string}\\n\") # The output file will contain the protein_id, first_n, last_m and aa_frequency separated by a tabulator\n",
    "                    \n",
    "print_sequence_summary('example_fasta_file.fa', 'output_summary.txt', first_n=10, last_m=10)\n",
    "\n"
   ]
  },
  {
   "cell_type": "code",
   "execution_count": null,
   "id": "511e4fea-0db8-4d7c-af15-0dcc26faab65",
   "metadata": {},
   "outputs": [],
   "source": []
  }
 ],
 "metadata": {
  "kernelspec": {
   "display_name": "Python 3",
   "language": "python",
   "name": "python3"
  },
  "language_info": {
   "codemirror_mode": {
    "name": "ipython",
    "version": 3
   },
   "file_extension": ".py",
   "mimetype": "text/x-python",
   "name": "python",
   "nbconvert_exporter": "python",
   "pygments_lexer": "ipython3",
   "version": "3.8.8"
  }
 },
 "nbformat": 4,
 "nbformat_minor": 5
}
