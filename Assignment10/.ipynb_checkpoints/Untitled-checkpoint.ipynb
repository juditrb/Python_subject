{
 "cells": [
  {
   "cell_type": "code",
   "execution_count": null,
   "id": "1eb1eab3-e111-42e3-a4e0-d5e245ff1529",
   "metadata": {},
   "outputs": [],
   "source": [
    "def FASTA_iterator(filename):\n",
    "    \n",
    "    with open(filename, 'r') as fd:\n",
    "        file = fd.read()\n",
    "        proteins = file.split(\">\")[1:]\n",
    "    \n",
    "        for protein in proteins:\n",
    "            identifier = protein.split(\"\\n\", 1)[0]\n",
    "            sequence = protein.split(\"\\n\", 1)[1].replace(\"\\n\", \"\")\n",
    "\n",
    "            yield Protein(identifier, sequence)\n",
    "\n",
    "\n",
    "for protein_obj in FASTA_iterator('example_fasta_file.fa'):\n",
    "    print(f'{protein_obj.get_identifier()},{protein_obj.get_sequence()},{protein_obj.get_mw()},{protein_obj.has_subsequence(Protein(\"Protein 2\", \"WGHI\"))},{protein_obj.get_length()}')"
   ]
  }
 ],
 "metadata": {
  "kernelspec": {
   "display_name": "Python 3",
   "language": "python",
   "name": "python3"
  },
  "language_info": {
   "codemirror_mode": {
    "name": "ipython",
    "version": 3
   },
   "file_extension": ".py",
   "mimetype": "text/x-python",
   "name": "python",
   "nbconvert_exporter": "python",
   "pygments_lexer": "ipython3",
   "version": "3.8.8"
  }
 },
 "nbformat": 4,
 "nbformat_minor": 5
}
