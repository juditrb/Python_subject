{
 "cells": [
  {
   "cell_type": "code",
   "execution_count": 36,
   "id": "3d06667e-29a8-43b3-b102-0e1291cb88a0",
   "metadata": {
    "tags": []
   },
   "outputs": [
    {
     "name": "stdin",
     "output_type": "stream",
     "text": [
      "Sphere radius:  2\n"
     ]
    },
    {
     "name": "stdout",
     "output_type": "stream",
     "text": [
      "The sphere volume is: 33.510321638291124\n"
     ]
    }
   ],
   "source": [
    "# 1)Write a function that returns a float corresponding to the volume of a sphere:\n",
    "# get_sphere_volume(radius) (formula=(4/3)πr3)\n",
    "\n",
    "import math\n",
    "r = float(input(\"Sphere radius: \"))\n",
    "sphere_volume = (4/3)*math.pi*r**3\n",
    "print(\"The sphere volume is:\", sphere_volume)\n"
   ]
  },
  {
   "cell_type": "code",
   "execution_count": 35,
   "id": "52ef6b29-ade7-46f2-8481-f950f44e3268",
   "metadata": {},
   "outputs": [
    {
     "name": "stdin",
     "output_type": "stream",
     "text": [
      "Write an integer to calculate its factorial:  5\n"
     ]
    },
    {
     "name": "stdout",
     "output_type": "stream",
     "text": [
      "The factorial of 5 is: 120\n"
     ]
    },
    {
     "name": "stdin",
     "output_type": "stream",
     "text": [
      "Write an integer to calculate its factorial:  5\n"
     ]
    },
    {
     "name": "stdout",
     "output_type": "stream",
     "text": [
      "The factorial of 5 is: 120\n"
     ]
    }
   ],
   "source": [
    "# 2) Write a function that calculates and returns an integer corresponding\n",
    "#to the factorial of an integer (n):\n",
    "\n",
    "# a) Using recursivity: recursive_factorial(n)\n",
    "\n",
    "n = int(input(\"Write an integer to calculate its factorial: \"))\n",
    "def recursive_factorial(n):\n",
    "    if n == 0:\n",
    "        return 1\n",
    "    else: \n",
    "        return n*recursive_factorial(n-1)\n",
    "\n",
    "print(f\"The factorial of {n} is:\", recursive_factorial(n))\n",
    "\n",
    "# b) Without using recursivity: factorial(n)\n",
    "    # A for loop is used to iterate from 1 to n. For each iteration, the result variable previously initialized will be the same variable multiplied by the current iteration.\n",
    "\n",
    "def factorial(n):\n",
    "    result = 1\n",
    "    for i in range(1, n + 1):\n",
    "        result *= i\n",
    "    return result\n",
    "\n",
    "n = int(input(\"Write an integer to calculate its factorial: \"))\n",
    "print(f\"The factorial of {n} is:\", factorial(n))\n",
    "\n",
    "\n"
   ]
  },
  {
   "cell_type": "code",
   "execution_count": 31,
   "id": "fce669cf-21ae-4448-8e15-3e1d3068a24f",
   "metadata": {
    "tags": []
   },
   "outputs": [
    {
     "name": "stdin",
     "output_type": "stream",
     "text": [
      "Write a number:  4\n"
     ]
    },
    {
     "name": "stdout",
     "output_type": "stream",
     "text": [
      "1\n",
      "3\n"
     ]
    },
    {
     "name": "stdin",
     "output_type": "stream",
     "text": [
      "Write a number:  4\n",
      "Counting only odd numbers? (true/false):  false\n"
     ]
    },
    {
     "name": "stdout",
     "output_type": "stream",
     "text": [
      "0\n",
      "1\n",
      "2\n",
      "3\n",
      "4\n"
     ]
    }
   ],
   "source": [
    "# 3) Write a function for counting up numbers from 0 to n, showing the count up in the\n",
    "# screen. If parameter odd is set to True, prints only odd numbers\n",
    "\n",
    "# a) Using recursivity: recursive_count_up(n, odd)\n",
    "\n",
    "import math\n",
    "def recursive_count_up(i, n, odd):\n",
    "    if i > n:\n",
    "        return\n",
    "    if odd:\n",
    "        if i % 2 != 0:\n",
    "            print(i)\n",
    "    else:\n",
    "        print(i)\n",
    "    recursive_count_up(i + 1, n, odd)\n",
    "n = int(input(\"Write a number: \"))\n",
    "i = 0\n",
    "odd = True\n",
    "recursive_count_up(i, n, odd)\n",
    "\n",
    "\n",
    "# b) Without using recursivity: count_up(n,odd)\n",
    "\n",
    "import math\n",
    "def count_up(n, odd=False):\n",
    "    for i in range(n + 1):\n",
    "        if odd and i % 2 != 0:\n",
    "                print(i)\n",
    "        elif not odd:\n",
    "            print(i)\n",
    "\n",
    "n = int(input(\"Write a number: \"))\n",
    "odd_choise = input(\"Counting only odd numbers? (true/false): \").lower() #lowercase letters\n",
    "odd = odd_choise == 'true' #boolean value\n",
    "count_up(n, odd)\n",
    "\n"
   ]
  },
  {
   "cell_type": "code",
   "execution_count": 39,
   "id": "70bfb69a-03df-4c55-b0bb-7a3e515e53f8",
   "metadata": {
    "tags": []
   },
   "outputs": [
    {
     "name": "stdin",
     "output_type": "stream",
     "text": [
      "Write a price:  3\n"
     ]
    },
    {
     "name": "stdout",
     "output_type": "stream",
     "text": [
      "The final price is: 2.7\n"
     ]
    }
   ],
   "source": [
    "# 4) Find and solve the bugs in the following function:\n",
    "\n",
    "#def get_final_price(discount_percentage=10, price): \"\"\"Return the final price after applying the discount percentage \"\"\"\n",
    "#return ((price + price) * percentage) / 100\n",
    "\n",
    "def get_final_price(price, discount_percentage=10):\n",
    "    \n",
    "    \"\"\"Return the final price after applying the discount percentage \"\"\"\n",
    "    return price - ((price * discount_percentage) / 100)\n",
    "\n",
    "n = int(input(\"Write a price: \"))\n",
    "print(f\"The final price is:\", get_final_price(n))\n",
    "\n"
   ]
  },
  {
   "cell_type": "code",
   "execution_count": null,
   "id": "f29134c2-88d5-447e-ae1c-613548146530",
   "metadata": {},
   "outputs": [],
   "source": []
  }
 ],
 "metadata": {
  "kernelspec": {
   "display_name": "Python 3",
   "language": "python",
   "name": "python3"
  },
  "language_info": {
   "codemirror_mode": {
    "name": "ipython",
    "version": 3
   },
   "file_extension": ".py",
   "mimetype": "text/x-python",
   "name": "python",
   "nbconvert_exporter": "python",
   "pygments_lexer": "ipython3",
   "version": "3.8.8"
  }
 },
 "nbformat": 4,
 "nbformat_minor": 5
}
