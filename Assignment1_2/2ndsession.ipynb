{
 "cells": [
  {
   "cell_type": "code",
   "execution_count": 4,
   "id": "3855c055-466f-4d4b-b0ac-06c82c278e72",
   "metadata": {},
   "outputs": [
    {
     "ename": "IndentationError",
     "evalue": "unexpected indent (<ipython-input-4-1fb274d1b0e9>, line 7)",
     "output_type": "error",
     "traceback": [
      "\u001b[0;36m  File \u001b[0;32m\"<ipython-input-4-1fb274d1b0e9>\"\u001b[0;36m, line \u001b[0;32m7\u001b[0m\n\u001b[0;31m    object_name.radius()\u001b[0m\n\u001b[0m    ^\u001b[0m\n\u001b[0;31mIndentationError\u001b[0m\u001b[0;31m:\u001b[0m unexpected indent\n"
     ]
    }
   ],
   "source": [
    "#object_name.method() or the atribute\n",
    "\n",
    "import math\n",
    "+radius: Float\n",
    "+color: String\n",
    "\n"
   ]
  },
  {
   "cell_type": "code",
   "execution_count": 7,
   "id": "6f344c75-1bb8-4de7-87f4-a13ccb4e1cf7",
   "metadata": {},
   "outputs": [
    {
     "ename": "NameError",
     "evalue": "name 'b' is not defined",
     "output_type": "error",
     "traceback": [
      "\u001b[0;31m---------------------------------------------------------------------------\u001b[0m",
      "\u001b[0;31mNameError\u001b[0m                                 Traceback (most recent call last)",
      "\u001b[0;32m<ipython-input-7-30b4b232feeb>\u001b[0m in \u001b[0;36m<module>\u001b[0;34m\u001b[0m\n\u001b[1;32m     10\u001b[0m \u001b[0;34m\u001b[0m\u001b[0m\n\u001b[1;32m     11\u001b[0m \u001b[0mid\u001b[0m\u001b[0;34m(\u001b[0m\u001b[0ma\u001b[0m\u001b[0;34m)\u001b[0m\u001b[0;34m\u001b[0m\u001b[0;34m\u001b[0m\u001b[0m\n\u001b[0;32m---> 12\u001b[0;31m \u001b[0mid\u001b[0m\u001b[0;34m(\u001b[0m\u001b[0mb\u001b[0m\u001b[0;34m)\u001b[0m\u001b[0;34m\u001b[0m\u001b[0;34m\u001b[0m\u001b[0m\n\u001b[0m",
      "\u001b[0;31mNameError\u001b[0m: name 'b' is not defined"
     ]
    }
   ],
   "source": [
    "a = 3 #name referenciating an object\n",
    "b = a #referencing the same object\n",
    "a = 3.14 # a were an integer and now it's a float\n",
    "b = \"hello\" #the object 3 is not referenced by any variable\n",
    "\n",
    "#Garbage collection\n",
    "\n",
    "del b #we are removing this name, so the garbage collection can remove the object\n",
    "#id() #returns identity of an object (to be unique among objects that exists at the same time)\n",
    "\n",
    "id(a)\n",
    "id(b)\n"
   ]
  },
  {
   "cell_type": "code",
   "execution_count": 8,
   "id": "468e7f6a-6030-4445-80ae-da14db330f37",
   "metadata": {},
   "outputs": [
    {
     "name": "stderr",
     "output_type": "stream",
     "text": [
      "<>:6: SyntaxWarning: \"is\" with a literal. Did you mean \"==\"?\n",
      "<>:6: SyntaxWarning: \"is\" with a literal. Did you mean \"==\"?\n",
      "<ipython-input-8-b4470fca2efc>:6: SyntaxWarning: \"is\" with a literal. Did you mean \"==\"?\n",
      "  a is 5\n"
     ]
    },
    {
     "data": {
      "text/plain": [
       "False"
      ]
     },
     "execution_count": 8,
     "metadata": {},
     "output_type": "execute_result"
    }
   ],
   "source": [
    "a = 3\n",
    "b = a\n",
    "\n",
    "a is b\n",
    "c = 5\n",
    "a is 5\n"
   ]
  },
  {
   "cell_type": "code",
   "execution_count": 9,
   "id": "efcce9e0-8f09-481a-8881-5c5d3bf56d4e",
   "metadata": {},
   "outputs": [
    {
     "data": {
      "text/plain": [
       "False"
      ]
     },
     "execution_count": 9,
     "metadata": {},
     "output_type": "execute_result"
    }
   ],
   "source": [
    "a = True\n",
    "a is None"
   ]
  },
  {
   "cell_type": "code",
   "execution_count": 10,
   "id": "72dd55e2-9ab9-4732-b572-ec1cd0ac3cef",
   "metadata": {},
   "outputs": [
    {
     "data": {
      "text/plain": [
       "4374034848"
      ]
     },
     "execution_count": 10,
     "metadata": {},
     "output_type": "execute_result"
    }
   ],
   "source": [
    "id(3)"
   ]
  },
  {
   "cell_type": "code",
   "execution_count": 11,
   "id": "d7256b58-f818-4b39-9617-0fbb26267499",
   "metadata": {},
   "outputs": [
    {
     "data": {
      "text/plain": [
       "4374034816"
      ]
     },
     "execution_count": 11,
     "metadata": {},
     "output_type": "execute_result"
    }
   ],
   "source": [
    "id(2)"
   ]
  },
  {
   "cell_type": "code",
   "execution_count": 12,
   "id": "d1a40bae-e556-490a-a4b7-21712635bcd8",
   "metadata": {},
   "outputs": [
    {
     "data": {
      "text/plain": [
       "4374035072"
      ]
     },
     "execution_count": 12,
     "metadata": {},
     "output_type": "execute_result"
    }
   ],
   "source": [
    "id(10)"
   ]
  },
  {
   "cell_type": "code",
   "execution_count": 13,
   "id": "097af228-93a0-47e4-90f4-b3e8c85567bf",
   "metadata": {},
   "outputs": [
    {
     "data": {
      "text/plain": [
       "140670245319344"
      ]
     },
     "execution_count": 13,
     "metadata": {},
     "output_type": "execute_result"
    }
   ],
   "source": [
    "id(1000)"
   ]
  },
  {
   "cell_type": "code",
   "execution_count": 14,
   "id": "0f7adc3a-d33b-43b0-9ea7-f02ef0a9c611",
   "metadata": {},
   "outputs": [
    {
     "data": {
      "text/plain": [
       "140671341465424"
      ]
     },
     "execution_count": 14,
     "metadata": {},
     "output_type": "execute_result"
    }
   ],
   "source": [
    "id(3.14)"
   ]
  },
  {
   "cell_type": "code",
   "execution_count": 15,
   "id": "a83bd5d6-204a-4d35-bf42-3da3b8e6d1cb",
   "metadata": {},
   "outputs": [
    {
     "data": {
      "text/plain": [
       "140671341673456"
      ]
     },
     "execution_count": 15,
     "metadata": {},
     "output_type": "execute_result"
    }
   ],
   "source": [
    "id(\"hello\")"
   ]
  },
  {
   "cell_type": "code",
   "execution_count": 16,
   "id": "6e65bdee-6b4a-4e6c-bf82-c41e75f795ea",
   "metadata": {},
   "outputs": [
    {
     "data": {
      "text/plain": [
       "4374034912"
      ]
     },
     "execution_count": 16,
     "metadata": {},
     "output_type": "execute_result"
    }
   ],
   "source": [
    "id(5)"
   ]
  },
  {
   "cell_type": "code",
   "execution_count": 17,
   "id": "3ed8f4ac-9169-44ea-b72f-c7903e63d9bb",
   "metadata": {},
   "outputs": [
    {
     "data": {
      "text/plain": [
       "['__add__',\n",
       " '__class__',\n",
       " '__contains__',\n",
       " '__delattr__',\n",
       " '__dir__',\n",
       " '__doc__',\n",
       " '__eq__',\n",
       " '__format__',\n",
       " '__ge__',\n",
       " '__getattribute__',\n",
       " '__getitem__',\n",
       " '__getnewargs__',\n",
       " '__gt__',\n",
       " '__hash__',\n",
       " '__init__',\n",
       " '__init_subclass__',\n",
       " '__iter__',\n",
       " '__le__',\n",
       " '__len__',\n",
       " '__lt__',\n",
       " '__mod__',\n",
       " '__mul__',\n",
       " '__ne__',\n",
       " '__new__',\n",
       " '__reduce__',\n",
       " '__reduce_ex__',\n",
       " '__repr__',\n",
       " '__rmod__',\n",
       " '__rmul__',\n",
       " '__setattr__',\n",
       " '__sizeof__',\n",
       " '__str__',\n",
       " '__subclasshook__',\n",
       " 'capitalize',\n",
       " 'casefold',\n",
       " 'center',\n",
       " 'count',\n",
       " 'encode',\n",
       " 'endswith',\n",
       " 'expandtabs',\n",
       " 'find',\n",
       " 'format',\n",
       " 'format_map',\n",
       " 'index',\n",
       " 'isalnum',\n",
       " 'isalpha',\n",
       " 'isascii',\n",
       " 'isdecimal',\n",
       " 'isdigit',\n",
       " 'isidentifier',\n",
       " 'islower',\n",
       " 'isnumeric',\n",
       " 'isprintable',\n",
       " 'isspace',\n",
       " 'istitle',\n",
       " 'isupper',\n",
       " 'join',\n",
       " 'ljust',\n",
       " 'lower',\n",
       " 'lstrip',\n",
       " 'maketrans',\n",
       " 'partition',\n",
       " 'replace',\n",
       " 'rfind',\n",
       " 'rindex',\n",
       " 'rjust',\n",
       " 'rpartition',\n",
       " 'rsplit',\n",
       " 'rstrip',\n",
       " 'split',\n",
       " 'splitlines',\n",
       " 'startswith',\n",
       " 'strip',\n",
       " 'swapcase',\n",
       " 'title',\n",
       " 'translate',\n",
       " 'upper',\n",
       " 'zfill']"
      ]
     },
     "execution_count": 17,
     "metadata": {},
     "output_type": "execute_result"
    }
   ],
   "source": [
    "word =\"holi\" #the output: names available for that object\n",
    "dir(word)"
   ]
  },
  {
   "cell_type": "code",
   "execution_count": 19,
   "id": "f9de3486-ac59-4829-be11-6d579844b94b",
   "metadata": {},
   "outputs": [
    {
     "name": "stdout",
     "output_type": "stream",
     "text": [
      "Help on built-in function split:\n",
      "\n",
      "split(sep=None, maxsplit=-1) method of builtins.str instance\n",
      "    Return a list of the words in the string, using sep as the delimiter string.\n",
      "    \n",
      "    sep\n",
      "      The delimiter according which to split the string.\n",
      "      None (the default value) means split according to any whitespace,\n",
      "      and discard empty strings from the result.\n",
      "    maxsplit\n",
      "      Maximum number of splits to do.\n",
      "      -1 (the default value) means no limit.\n",
      "\n"
     ]
    }
   ],
   "source": [
    "word = \"holi\" #the output: names available for that object\n",
    "help(word.split) # using this command we will get the documentation\n"
   ]
  },
  {
   "cell_type": "code",
   "execution_count": 22,
   "id": "8bedc96b-1287-461b-bc9f-d015dc147b44",
   "metadata": {},
   "outputs": [
    {
     "data": {
      "text/plain": [
       "['This',\n",
       " 'is',\n",
       " 'a',\n",
       " 'test',\n",
       " 'example',\n",
       " 'sentence.',\n",
       " 'This',\n",
       " 'is',\n",
       " 'the',\n",
       " 'second',\n",
       " 'sentence.']"
      ]
     },
     "execution_count": 22,
     "metadata": {},
     "output_type": "execute_result"
    }
   ],
   "source": [
    "#useful methods strings\n",
    "sentence = \"This is a test example sentence.\\nThis is the second sentence.\\n\"\n",
    "sentence.split()"
   ]
  },
  {
   "cell_type": "code",
   "execution_count": 23,
   "id": "43ac96eb-220a-428b-9701-5601062e6117",
   "metadata": {},
   "outputs": [
    {
     "data": {
      "text/plain": [
       "['This is a test example sentence.', 'This is the second sentence.', '']"
      ]
     },
     "execution_count": 23,
     "metadata": {},
     "output_type": "execute_result"
    }
   ],
   "source": [
    "sentence.split(\"\\n\")"
   ]
  },
  {
   "cell_type": "code",
   "execution_count": 24,
   "id": "320db5c3-a49c-4b8a-9ed6-379a483d5706",
   "metadata": {},
   "outputs": [
    {
     "data": {
      "text/plain": [
       "'This is a test example sentence.\\nThis is the second sentence.'"
      ]
     },
     "execution_count": 24,
     "metadata": {},
     "output_type": "execute_result"
    }
   ],
   "source": [
    "sentence.strip()"
   ]
  },
  {
   "cell_type": "code",
   "execution_count": 25,
   "id": "aff5c9ec-6531-4af7-8556-8186b6fc8fd2",
   "metadata": {},
   "outputs": [
    {
     "data": {
      "text/plain": [
       "'This is a test example sentence.\\nThis is the second sentence'"
      ]
     },
     "execution_count": 25,
     "metadata": {},
     "output_type": "execute_result"
    }
   ],
   "source": [
    "sentence.strip(\"\\n.\")"
   ]
  },
  {
   "cell_type": "code",
   "execution_count": 26,
   "id": "a36cfb8f-1431-4f9c-8f6e-766cfac51274",
   "metadata": {},
   "outputs": [
    {
     "data": {
      "text/plain": [
       "'The result of 2 + 2 is 4'"
      ]
     },
     "execution_count": 26,
     "metadata": {},
     "output_type": "execute_result"
    }
   ],
   "source": [
    "\"The result of 2 + 2 is \" + str(4) #converting 4 value into a string to concatenate it with an another string"
   ]
  },
  {
   "cell_type": "code",
   "execution_count": 27,
   "id": "dc8abb94-e0b2-446c-9b46-5c53f4a2753e",
   "metadata": {},
   "outputs": [
    {
     "data": {
      "text/plain": [
       "'Student ID 1272. Name Toni. Age 23. Rank 3.200000'"
      ]
     },
     "execution_count": 27,
     "metadata": {},
     "output_type": "execute_result"
    }
   ],
   "source": [
    "\"Student ID %d. Name %s. Age %d. Rank %f\" %(1272,\"Toni\",23,3.2) #formatting strings"
   ]
  },
  {
   "cell_type": "code",
   "execution_count": 28,
   "id": "7c5f50d0-afd0-4911-aa03-68f727b04be4",
   "metadata": {},
   "outputs": [
    {
     "name": "stdout",
     "output_type": "stream",
     "text": [
      "Example of formatting: 3.142\n"
     ]
    }
   ],
   "source": [
    "print(\"Example of formatting: %.3f\" %(3.141592653589793)) #%[flags][width][.precision]code"
   ]
  },
  {
   "cell_type": "code",
   "execution_count": 31,
   "id": "392ff294-089b-40d5-a5bd-b630e4df3fb9",
   "metadata": {},
   "outputs": [
    {
     "data": {
      "text/plain": [
       "'The name of the student is Roger. The surname is Puig'"
      ]
     },
     "execution_count": 31,
     "metadata": {},
     "output_type": "execute_result"
    }
   ],
   "source": [
    "my_string = \"The name of the student is {name}. The surname is {surname}\"\n",
    "my_string.format(name=\"Roger\", surname=\"Puig\")"
   ]
  },
  {
   "cell_type": "code",
   "execution_count": 36,
   "id": "017626b7-fe88-4229-87c7-b81cfca3de1d",
   "metadata": {},
   "outputs": [
    {
     "name": "stdout",
     "output_type": "stream",
     "text": [
      "The name of the student is Roger. The surname is Puig\n"
     ]
    }
   ],
   "source": [
    "#formating strings\n",
    "name = \"Roger\"\n",
    "surname = \"Puig\"\n",
    "\n",
    "my_string = f\"The name of the student is {name}. The surname is {surname}\"\n",
    "print(my_string)"
   ]
  },
  {
   "cell_type": "code",
   "execution_count": 37,
   "id": "3ada2ef6-6317-4fc4-a527-197354edd803",
   "metadata": {},
   "outputs": [],
   "source": [
    "#string prefix\n",
    "\n",
    "name = \"Roger\"\n",
    "surname = \"Puig\"\n",
    "my_string = r\"The name of the student is \\\"{name}\\\". The surname is \\\"{surname}\\\"\"\n",
    "my_string = rf\"The name of the student is \\\"{name}\\\". The surname is \\\"{surname}\\\"\"\n",
    "my_string = b\"The name of the student is \\\"{name}\\\". The surname is \\\"{surname}\\\"\"\n",
    "my_string = u\"The name of the student is \\\"{name}\\\". The surname is \\\"{surname}\\\"\""
   ]
  },
  {
   "cell_type": "code",
   "execution_count": null,
   "id": "664c6211-8b35-4b4c-913e-e7379624f548",
   "metadata": {},
   "outputs": [],
   "source": [
    "#File object\n",
    "\n",
    "#open(name[, mode[, buffering]]) -> file object #this returns a file object"
   ]
  },
  {
   "cell_type": "code",
   "execution_count": null,
   "id": "de295433-6483-41e5-9bef-f2e9abb1076c",
   "metadata": {},
   "outputs": [],
   "source": [
    "fd = open(“my_file.txt”,”r”)\n",
    "for line in fd: #returning each line\n",
    "    print(line)\n",
    "\n",
    "fd.close() #closing the file\n"
   ]
  },
  {
   "cell_type": "code",
   "execution_count": null,
   "id": "4f6d3626-de5c-4d92-9fe2-648fddcdbbb4",
   "metadata": {},
   "outputs": [],
   "source": [
    "#the best option to use, inside the with block, variable called fd which points to that file, open and close files\n",
    "\n",
    "with open(“my_file.txt”,”r”) as fd:\n",
    "    for line in fd:\n",
    "        print(line)"
   ]
  },
  {
   "cell_type": "code",
   "execution_count": null,
   "id": "1f6fc40f-1979-4831-b9be-5aee41ea3aec",
   "metadata": {},
   "outputs": [],
   "source": []
  }
 ],
 "metadata": {
  "kernelspec": {
   "display_name": "Python 3",
   "language": "python",
   "name": "python3"
  },
  "language_info": {
   "codemirror_mode": {
    "name": "ipython",
    "version": 3
   },
   "file_extension": ".py",
   "mimetype": "text/x-python",
   "name": "python",
   "nbconvert_exporter": "python",
   "pygments_lexer": "ipython3",
   "version": "3.8.8"
  }
 },
 "nbformat": 4,
 "nbformat_minor": 5
}
