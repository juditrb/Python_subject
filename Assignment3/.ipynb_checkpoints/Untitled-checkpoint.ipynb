{
 "cells": [
  {
   "cell_type": "code",
   "execution_count": 1,
   "id": "7aed66d1-01e0-4d1a-ac10-a5b073b5a267",
   "metadata": {},
   "outputs": [
    {
     "name": "stdout",
     "output_type": "stream",
     "text": [
      "Subsequences read: ['AAVP', 'AC', 'ACV', 'AEAV', 'AF', 'AFV', 'AINP', 'ALSV', 'CGTG', 'CITP', 'CT', 'CTD', 'CVDW', 'DA', 'DAC', 'DF', 'DFY', 'DG', 'DGI', 'DKED', 'DKPD', 'DKTI', 'DP', 'DPS', 'DRYF', 'DS', 'DSN', 'DSSD', 'DTDC', 'EDPT', 'EEYY', 'EG', 'EGV', 'EIEL', 'EL', 'ELI', 'EMMI', 'EPSE', 'ETAQ', 'EY', 'EYD', 'FALL', 'FEPK', 'FG', 'FGK', 'FI', 'FIS', 'FQ', 'FQD', 'FQRE', 'FQS', 'FR', 'FRI', 'FVAG', 'FVNE', 'GA', 'GAL', 'GAT', 'GEAC', 'GGSD', 'GI', 'GIK', 'GP', 'GPV', 'GS', 'GSN', 'GT', 'GTI', 'GTQ', 'HKTA', 'HL', 'HLR', 'HSGV', 'IF', 'IFN', 'IGAT', 'IKPL', 'IL', 'ILL', 'IP', 'IPE', 'IPIV', 'IQEM', 'IQLR', 'IS', 'ISGP', 'ISK', 'IV', 'IVL', 'IVMD', 'KAVE', 'KAYN', 'KD', 'KDE', 'KF', 'KFR', 'KFS', 'KIYT', 'KM', 'KML', 'KN', 'KNIT', 'KNT', 'KR', 'KRE', 'KT', 'KTE', 'KTLY', 'KVYD', 'KYDT', 'LA', 'LAA', 'LFCV', 'LHKR', 'LIVG', 'LNEV', 'LP', 'LPK', 'LSED', 'LT', 'LTD', 'LTHL', 'LV', 'LVE', 'LVKD', 'LY', 'LYD', 'LYER', 'LYP', 'MD', 'MDK', 'MQRL', 'MT', 'MTS', 'MV', 'MVS', 'MYFL', 'NA', 'NAH', 'ND', 'NDK', 'NEWY', 'NKPF', 'NRAS', 'NT', 'NTA', 'NTAP', 'NTVS', 'PC', 'PCC', 'PE', 'PEH', 'PEK', 'PKLY', 'PLLG', 'PLPE', 'PQPK', 'PT', 'PTW', 'PWVQ', 'QI', 'QIK', 'QK', 'QKN', 'QNLA', 'QV', 'QVA', 'RD', 'RDA', 'RE', 'REL', 'RET', 'RG', 'RGA', 'RL', 'RLD', 'RLL', 'RR', 'RRI', 'RS', 'RSW', 'SAED', 'SEEG', 'SPYD', 'SRGA', 'ST', 'STT', 'SV', 'SVR', 'SVTM', 'SW', 'SWY', 'SYCE', 'TI', 'TIC', 'TL', 'TLE', 'TLRP', 'TLV', 'TQVC', 'TT', 'TTCT', 'TTY', 'TVLI', 'VA', 'VAI', 'VATA', 'VDKD', 'VG', 'VGAP', 'VGR', 'VK', 'VKY', 'VL', 'VLI', 'VM', 'VMV', 'VP', 'VPV', 'VQ', 'VQL', 'VRIC', 'VRLE', 'VS', 'VSF', 'VTLI', 'WK', 'WKF', 'WNPA', 'WTQK', 'WV', 'WVE', 'YAYG', 'YCMR', 'YETR', 'YL', 'YLD', 'YQ', 'YQK', 'YS', 'YSS']\n",
      "Number of proteins read: 51\n"
     ]
    }
   ],
   "source": [
    "def calculate_aminoacid_frequencies(fasta_filename, subsequences_filename, number_of_repetitions, output_filename):\n",
    "    # Read and store subsequences\n",
    "    with open(subsequences_filename, 'r') as file:\n",
    "        subsequences = [line.strip() for line in file]\n",
    "    print(\"Subsequences read:\", subsequences)  # Debugging\n",
    "\n",
    "    # Read and process the FASTA file\n",
    "    with open(fasta_filename, 'r') as fd:\n",
    "        fasta_contents = fd.read().split('>')[1:]\n",
    "        proteins = [\"\".join(protein.split(\"\\n\")[1:]) for protein in fasta_contents]\n",
    "    print(\"Number of proteins read:\", len(proteins))  # Debugging\n",
    "\n",
    "    # Initialize a dictionary to count occurrences\n",
    "    subseqdic = {subseq: 0 for subseq in subsequences}\n",
    "\n",
    "    # Count occurrences\n",
    "    for protein in proteins:\n",
    "        for subseq in subsequences:\n",
    "            if protein.count(subseq) >= number_of_repetitions:\n",
    "                subseqdic[subseq] += 1\n",
    "\n",
    "    # Sort and write to file\n",
    "    sorted_subseq = sorted(subseqdic.items(), key=lambda x: x[1], reverse=True)\n",
    "    with open(output_filename, 'w') as out_file:\n",
    "        out_file.write(f\"#Number of proteins: {len(proteins)}\\n\")\n",
    "        out_file.write(f\"#Number of subsequences: {len(subseqdic)}\\n\")\n",
    "        out_file.write(\"#Subsequence proportions:\\n\")\n",
    "        for subseq, count in sorted_subseq:\n",
    "            proportion = count / len(proteins)\n",
    "            out_file.write(f\"{subseq} {count} {proportion:.4f}\\n\")\n",
    "\n",
    "# Example usage\n",
    "calculate_aminoacid_frequencies('example_fasta_file.fa', 'sequence_fragments.txt', 1, 'output.txt')\n"
   ]
  },
  {
   "cell_type": "code",
   "execution_count": null,
   "id": "25188e69-bb27-477d-b6fb-04a0428ec622",
   "metadata": {},
   "outputs": [],
   "source": []
  }
 ],
 "metadata": {
  "kernelspec": {
   "display_name": "Python 3",
   "language": "python",
   "name": "python3"
  },
  "language_info": {
   "codemirror_mode": {
    "name": "ipython",
    "version": 3
   },
   "file_extension": ".py",
   "mimetype": "text/x-python",
   "name": "python",
   "nbconvert_exporter": "python",
   "pygments_lexer": "ipython3",
   "version": "3.8.8"
  }
 },
 "nbformat": 4,
 "nbformat_minor": 5
}
