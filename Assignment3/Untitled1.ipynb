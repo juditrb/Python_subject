{
 "cells": [
  {
   "cell_type": "code",
   "execution_count": 6,
   "id": "06a8770f-e8f9-4d8a-9ef4-7d9fabb62531",
   "metadata": {},
   "outputs": [],
   "source": [
    "def calculate_aminoacid_frequencies(fasta_filename, subsequences_filename, output_filename, number_of_repetitions=3):\n",
    "\n",
    "    with open('sequence_fragments.txt', 'r') as file:\n",
    "        subseqdic = {}\n",
    "        for line in file:\n",
    "            subseqdic[line.strip()] = 0\n",
    "    \n",
    "    len(subseqdic.keys())\n",
    "\n",
    "    with open('example_fasta_file.fa', 'r') as fd:\n",
    "        fastaf = fd.read().split('>')[1:]\n",
    "        proteins = [\"\".join(protein.split(\"\\n\")[1:]) for protein in fastaf]\n",
    "    \n",
    "    for protein in proteins:\n",
    "        for subseq in subseqdic.keys():\n",
    "            if protein.count(subseq) >= 3:\n",
    "                subseqdic[subseq] += 1\n",
    "    \n",
    "\n",
    "    total_proteins = len(proteins)\n",
    "\n",
    "    sorted_subseqdic = dict(sorted(subseqdic.items(), key=lambda x:x[1], reverse=True))\n",
    "\n",
    "    with open('output.txt', 'w') as out_file:\n",
    "        out_file.write(f\"#Number of proteins: {total_proteins:>{43}}\\n\")\n",
    "        out_file.write(f\"#Number of subsequences: {(len(subseqdic.keys())):>{39}}\\n\")\n",
    "        out_file.write(\"#Subsequence proportions:\\n\")\n",
    "        for subseq, count in sorted_subseqdic.items():\n",
    "            proportion = \"{:.4f}\".format(count / total_proteins)\n",
    "            out_file.write(f\"{subseq} {count:>{20}} {proportion:>{40}}\\n\")\n",
    "\n",
    "calculate_aminoacid_frequencies('example_fasta_file.fa', 'sequence_fragments.txt', 'output.txt', 3)"
   ]
  },
  {
   "cell_type": "code",
   "execution_count": null,
   "id": "997fb5b7-1709-43ac-a8d9-12f7389fd366",
   "metadata": {},
   "outputs": [],
   "source": []
  }
 ],
 "metadata": {
  "kernelspec": {
   "display_name": "Python 3",
   "language": "python",
   "name": "python3"
  },
  "language_info": {
   "codemirror_mode": {
    "name": "ipython",
    "version": 3
   },
   "file_extension": ".py",
   "mimetype": "text/x-python",
   "name": "python",
   "nbconvert_exporter": "python",
   "pygments_lexer": "ipython3",
   "version": "3.8.8"
  }
 },
 "nbformat": 4,
 "nbformat_minor": 5
}
