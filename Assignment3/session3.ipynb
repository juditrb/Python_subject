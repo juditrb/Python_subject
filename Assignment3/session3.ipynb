{
 "cells": [
  {
   "cell_type": "code",
   "execution_count": 1,
   "id": "6c790819-9515-40b9-9fe3-a9973523a9ac",
   "metadata": {},
   "outputs": [
    {
     "data": {
      "text/plain": [
       "[2, 3]"
      ]
     },
     "execution_count": 1,
     "metadata": {},
     "output_type": "execute_result"
    }
   ],
   "source": [
    "l = [1,2,3,4]\n",
    "l[1:3] #des de l'element 1 (2) fins l'element abans del 3 (3)\n"
   ]
  },
  {
   "cell_type": "code",
   "execution_count": 2,
   "id": "07ca887c-8b13-4150-9c0d-dcea696bfd5b",
   "metadata": {},
   "outputs": [
    {
     "data": {
      "text/plain": [
       "[2, 3]"
      ]
     },
     "execution_count": 2,
     "metadata": {},
     "output_type": "execute_result"
    }
   ],
   "source": [
    "l = [1,2,3,4]\n",
    "l[1:-1]"
   ]
  },
  {
   "cell_type": "code",
   "execution_count": 3,
   "id": "c3ea7dc1-1251-4b19-b6b8-b52e38abc91c",
   "metadata": {},
   "outputs": [
    {
     "data": {
      "text/plain": [
       "[4, 3, 2, 1]"
      ]
     },
     "execution_count": 3,
     "metadata": {},
     "output_type": "execute_result"
    }
   ],
   "source": [
    "l = [1,2,3,4]\n",
    "l[::-1] #reversing the list"
   ]
  },
  {
   "cell_type": "code",
   "execution_count": 4,
   "id": "44ffecb9-2430-4f26-9bb6-44581cfc63ed",
   "metadata": {},
   "outputs": [
    {
     "data": {
      "text/plain": [
       "['a', 2, 3, 4]"
      ]
     },
     "execution_count": 4,
     "metadata": {},
     "output_type": "execute_result"
    }
   ],
   "source": [
    "l = [1,2,3,4]\n",
    "l[0]=\"a\"\n",
    "l"
   ]
  },
  {
   "cell_type": "code",
   "execution_count": 7,
   "id": "f1d73bf9-8deb-4dfd-8bd6-8254500014dc",
   "metadata": {},
   "outputs": [
    {
     "name": "stdout",
     "output_type": "stream",
     "text": [
      "1\n",
      "None\n",
      "A\n",
      "True\n"
     ]
    }
   ],
   "source": [
    "my_list = [1,None,\"A\",True]\n",
    "for element in my_list:\n",
    "    print(element)"
   ]
  },
  {
   "cell_type": "code",
   "execution_count": null,
   "id": "1c432fdd-15ba-4bdd-b75e-fd111400c589",
   "metadata": {},
   "outputs": [],
   "source": [
    "['__add__', '__class__', '__contains__',\n",
    "'__delattr__', '__delitem__', '__delslice__',\n",
    "'__doc__', '__eq__', '__format__', '__ge__',\n",
    "'__getattribute__', '__getitem__',\n",
    "'__getslice__', '__gt__', '__hash__',\n",
    "'__iadd__', '__imul__', '__init__', '__iter__',\n",
    "'__le__', '__len__', '__lt__', '__mul__',\n",
    "'__ne__', '__new__', '__reduce__',\n",
    "'__reduce_ex__', '__repr__', '__reversed__',\n",
    "'__rmul__', '__setattr__', '__setitem__',\n",
    "'__setslice__', '__sizeof__', '__str__',\n",
    "'__subclasshook__', 'append', 'count', 'extend',\n",
    "'index', 'insert', 'pop', 'remove', 'reverse',\n",
    "'sort’] #method lists"
   ]
  },
  {
   "cell_type": "code",
   "execution_count": null,
   "id": "195b764f-a418-40c8-aef8-6da0e1898d59",
   "metadata": {},
   "outputs": [],
   "source": [
    "#append, count, extend, index, insert before specified index, pop (returning and removing the object at specified index)\n",
    "#sort (ordering elements of a list) --> sort modifies the list you are sorting"
   ]
  },
  {
   "cell_type": "code",
   "execution_count": null,
   "id": "65a6ed24-30c3-4605-ae8d-04e8dbcd3cb0",
   "metadata": {},
   "outputs": [],
   "source": [
    "#spliting a string, it is obtained a list"
   ]
  },
  {
   "cell_type": "code",
   "execution_count": null,
   "id": "75880880-71fe-4456-9702-d65039a90bd4",
   "metadata": {},
   "outputs": [],
   "source": [
    "#join --> inverse of split"
   ]
  },
  {
   "cell_type": "code",
   "execution_count": null,
   "id": "804c32c6-9a7a-4e16-a053-1df676966626",
   "metadata": {},
   "outputs": [],
   "source": [
    "#list, tuples, dictionaries --> {} (oppening a dictionary)"
   ]
  },
  {
   "cell_type": "code",
   "execution_count": 9,
   "id": "e3d3edc5-f0ca-4bf2-8ecf-cc1cd58a4011",
   "metadata": {},
   "outputs": [
    {
     "name": "stdout",
     "output_type": "stream",
     "text": [
      "one uno\n",
      "two dos\n",
      "three tres\n",
      "four cuatro\n"
     ]
    }
   ],
   "source": [
    "#items --> iterating on pairs (key:value)\n",
    "eng2sp = {\"one\": \"uno\",\n",
    "\"two\": \"dos\",\n",
    "\"three\": \"tres\",\n",
    "\"four\": \"cuatro\"}\n",
    "for eng, esp in eng2sp.items():\n",
    "    print(eng, esp)"
   ]
  },
  {
   "cell_type": "code",
   "execution_count": 11,
   "id": "5af1401b-6ae8-4d6f-84f6-779971d6a8fe",
   "metadata": {},
   "outputs": [
    {
     "ename": "ValueError",
     "evalue": "too many values to unpack (expected 2)",
     "output_type": "error",
     "traceback": [
      "\u001b[0;31m---------------------------------------------------------------------------\u001b[0m",
      "\u001b[0;31mValueError\u001b[0m                                Traceback (most recent call last)",
      "\u001b[0;32m<ipython-input-11-7c58238e19a2>\u001b[0m in \u001b[0;36m<module>\u001b[0;34m\u001b[0m\n\u001b[1;32m      4\u001b[0m \"four\": \"cuatro\"}\n\u001b[1;32m      5\u001b[0m \u001b[0;34m\u001b[0m\u001b[0m\n\u001b[0;32m----> 6\u001b[0;31m \u001b[0;32mfor\u001b[0m \u001b[0mkey\u001b[0m\u001b[0;34m,\u001b[0m \u001b[0mvalue\u001b[0m \u001b[0;32min\u001b[0m \u001b[0meng2sp\u001b[0m\u001b[0;34m.\u001b[0m\u001b[0mkeys\u001b[0m\u001b[0;34m(\u001b[0m\u001b[0;34m)\u001b[0m\u001b[0;34m:\u001b[0m\u001b[0;34m\u001b[0m\u001b[0;34m\u001b[0m\u001b[0m\n\u001b[0m\u001b[1;32m      7\u001b[0m     \u001b[0mprint\u001b[0m\u001b[0;34m(\u001b[0m\u001b[0mkey\u001b[0m\u001b[0;34m,\u001b[0m \u001b[0mvalue\u001b[0m\u001b[0;34m)\u001b[0m\u001b[0;34m\u001b[0m\u001b[0;34m\u001b[0m\u001b[0m\n",
      "\u001b[0;31mValueError\u001b[0m: too many values to unpack (expected 2)"
     ]
    }
   ],
   "source": [
    "eng2sp = {\"one\": \"uno\",\n",
    "\"two\": \"dos\",\n",
    "\"three\": \"tres\",\n",
    "\"four\": \"cuatro\"}\n",
    "\n",
    "for key, value in eng2sp.keys():\n",
    "    print(key, value)"
   ]
  },
  {
   "cell_type": "code",
   "execution_count": null,
   "id": "7201208c-7153-43af-bdf7-e09cf200d9cd",
   "metadata": {},
   "outputs": [],
   "source": []
  }
 ],
 "metadata": {
  "kernelspec": {
   "display_name": "Python 3",
   "language": "python",
   "name": "python3"
  },
  "language_info": {
   "codemirror_mode": {
    "name": "ipython",
    "version": 3
   },
   "file_extension": ".py",
   "mimetype": "text/x-python",
   "name": "python",
   "nbconvert_exporter": "python",
   "pygments_lexer": "ipython3",
   "version": "3.8.8"
  }
 },
 "nbformat": 4,
 "nbformat_minor": 5
}
