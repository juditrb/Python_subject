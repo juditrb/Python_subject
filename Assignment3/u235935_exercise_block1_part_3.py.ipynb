{
 "cells": [
  {
   "cell_type": "code",
   "execution_count": 9,
   "id": "f4b79374-2653-4d1f-bab5-b76ec71746e5",
   "metadata": {},
   "outputs": [
    {
     "ename": "SyntaxError",
     "evalue": "invalid syntax (<ipython-input-9-88655795edc2>, line 31)",
     "output_type": "error",
     "traceback": [
      "\u001b[0;36m  File \u001b[0;32m\"<ipython-input-9-88655795edc2>\"\u001b[0;36m, line \u001b[0;32m31\u001b[0m\n\u001b[0;31m    with open(output_filename, 'w') as out_file:\u001b[0m\n\u001b[0m    ^\u001b[0m\n\u001b[0;31mSyntaxError\u001b[0m\u001b[0;31m:\u001b[0m invalid syntax\n"
     ]
    }
   ],
   "source": [
    "# Create a function that, given a multi-line protein FASTA file (fasta_filename) and a\n",
    "# “sub-sequences” file (subsequences_filename) (one sequence in each line),\n",
    "# calculates the proportion of proteins in the FASTA file containing at least N-times\n",
    "#(number_of_repetitions) each of the sub-sequences (exactly equal). Save it in an\n",
    "#output file with the specified format, ordered by the proportion value\n",
    "#(descending order)\n",
    "\n",
    "def calculate_aminoacid_frequencies(fasta_filename, subsequences_filename, number_of_repetitions, output_filename):\n",
    "\n",
    "    with open(subsequences_filename, 'r') as file:\n",
    "        subseqdic = {}\n",
    "        num_sub = 0\n",
    "        for line in file:\n",
    "            num_sub += 1\n",
    "            subseqdic[line] = 0\n",
    "        print(line)\n",
    "\n",
    "    with open(fasta_filename, 'r') as fd:\n",
    "        fastaf = fd.read().split('>')[1:]\n",
    "        proteins = [\"\".join(protein.split(\"\\n\")[1:]) for protein in fastaf]\n",
    "\n",
    "    num_proteins = len(proteins)\n",
    "\n",
    "    for protein in proteins:\n",
    "        for subseq in subseqdic:\n",
    "            if protein.count(subseq) >= number_of_repetitions:\n",
    "                subseqdic[subseq] += 1\n",
    "                \n",
    "    sorted_subseq = sorted(subseqdic.items(), key\n",
    "\n",
    "    with open(output_filename, 'w') as out_file:\n",
    "        out_file.write(f\"#Number of proteins: {num_proteins}\\n\")\n",
    "        out_file.write(f\"#Number of subsequences: {len(subseqdic)}\\n\")\n",
    "        out_file.write(\"#Subsequence proportions:\\n\")\n",
    "        for subseq, count in sorted_subseq:\n",
    "            proportion = count / num_proteins\n",
    "            out_file.write(f\"{subseq} {count} {proportion:.4f}\\n\")\n",
    "\n",
    "calculate_aminoacid_frequencies('example_fasta_file.fa', 'sequence_fragments.txt', 3, 'output.txt')\n"
   ]
  },
  {
   "cell_type": "code",
   "execution_count": null,
   "id": "1a47b2bc-24fe-4253-88ef-ee998a207b48",
   "metadata": {},
   "outputs": [],
   "source": []
  },
  {
   "cell_type": "code",
   "execution_count": null,
   "id": "35064fce-c63e-4360-8909-1f80079cdc00",
   "metadata": {},
   "outputs": [],
   "source": []
  },
  {
   "cell_type": "code",
   "execution_count": null,
   "id": "80f62e2c-75d1-41ac-a389-be3c3903434d",
   "metadata": {},
   "outputs": [],
   "source": []
  },
  {
   "cell_type": "code",
   "execution_count": null,
   "id": "a4fda3ea-dd91-4fdf-81b2-0f014e2b487c",
   "metadata": {},
   "outputs": [],
   "source": []
  },
  {
   "cell_type": "code",
   "execution_count": null,
   "id": "abb032e0-a07f-4359-ac40-9d7b27ea3ae4",
   "metadata": {},
   "outputs": [],
   "source": []
  }
 ],
 "metadata": {
  "kernelspec": {
   "display_name": "Python 3",
   "language": "python",
   "name": "python3"
  },
  "language_info": {
   "codemirror_mode": {
    "name": "ipython",
    "version": 3
   },
   "file_extension": ".py",
   "mimetype": "text/x-python",
   "name": "python",
   "nbconvert_exporter": "python",
   "pygments_lexer": "ipython3",
   "version": "3.8.8"
  }
 },
 "nbformat": 4,
 "nbformat_minor": 5
}
