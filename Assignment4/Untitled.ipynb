{
 "cells": [
  {
   "cell_type": "code",
   "execution_count": 3,
   "id": "67fce9e3-2b09-4c75-9242-4904202f1eec",
   "metadata": {},
   "outputs": [],
   "source": [
    "\n",
    "hol = {'key3': 3, 'key4': 4}"
   ]
  },
  {
   "cell_type": "code",
   "execution_count": 4,
   "id": "9f06124a-6098-4adb-9321-eb6afa346960",
   "metadata": {},
   "outputs": [
    {
     "data": {
      "text/plain": [
       "dict_items([('key3', 3), ('key4', 4)])"
      ]
     },
     "execution_count": 4,
     "metadata": {},
     "output_type": "execute_result"
    }
   ],
   "source": [
    "hol.items()"
   ]
  },
  {
   "cell_type": "code",
   "execution_count": 5,
   "id": "db803052-99b5-49aa-8cfe-adafa0cff71b",
   "metadata": {},
   "outputs": [
    {
     "data": {
      "text/plain": [
       "dict_values([3, 4])"
      ]
     },
     "execution_count": 5,
     "metadata": {},
     "output_type": "execute_result"
    }
   ],
   "source": [
    "hol.values()"
   ]
  },
  {
   "cell_type": "code",
   "execution_count": 6,
   "id": "9700edba-911a-44bb-8f30-d46501cc4128",
   "metadata": {},
   "outputs": [
    {
     "data": {
      "text/plain": [
       "dict_keys(['key3', 'key4'])"
      ]
     },
     "execution_count": 6,
     "metadata": {},
     "output_type": "execute_result"
    }
   ],
   "source": [
    "hol.keys()"
   ]
  },
  {
   "cell_type": "code",
   "execution_count": 8,
   "id": "5c2b8274-10f0-4db7-ac23-1865b868b895",
   "metadata": {},
   "outputs": [
    {
     "ename": "NameError",
     "evalue": "name 'dict_keys' is not defined",
     "output_type": "error",
     "traceback": [
      "\u001b[0;31m---------------------------------------------------------------------------\u001b[0m",
      "\u001b[0;31mNameError\u001b[0m                                 Traceback (most recent call last)",
      "\u001b[0;32m<ipython-input-8-8296cdd6a084>\u001b[0m in \u001b[0;36m<module>\u001b[0;34m\u001b[0m\n\u001b[0;32m----> 1\u001b[0;31m \u001b[0mdict_keys\u001b[0m\u001b[0;34m(\u001b[0m\u001b[0;36m0\u001b[0m\u001b[0;34m)\u001b[0m\u001b[0;34m\u001b[0m\u001b[0;34m\u001b[0m\u001b[0m\n\u001b[0m",
      "\u001b[0;31mNameError\u001b[0m: name 'dict_keys' is not defined"
     ]
    }
   ],
   "source": [
    "dict_keys(0)"
   ]
  },
  {
   "cell_type": "code",
   "execution_count": 12,
   "id": "7fa1c054-16d9-43ad-945c-0a03bfa2edb9",
   "metadata": {},
   "outputs": [
    {
     "ename": "IndentationError",
     "evalue": "expected an indented block (<ipython-input-12-51b334496115>, line 2)",
     "output_type": "error",
     "traceback": [
      "\u001b[0;36m  File \u001b[0;32m\"<ipython-input-12-51b334496115>\"\u001b[0;36m, line \u001b[0;32m2\u001b[0m\n\u001b[0;31m    return keys[0]\u001b[0m\n\u001b[0m    ^\u001b[0m\n\u001b[0;31mIndentationError\u001b[0m\u001b[0;31m:\u001b[0m expected an indented block\n"
     ]
    }
   ],
   "source": [
    "for dic in dict_keys[()]:\n",
    "return keys[0]"
   ]
  },
  {
   "cell_type": "code",
   "execution_count": null,
   "id": "07170b65-897f-47b8-84de-e977bf9409e8",
   "metadata": {},
   "outputs": [],
   "source": []
  },
  {
   "cell_type": "code",
   "execution_count": null,
   "id": "9b3f4348-f7c8-497f-a906-67c2add9e26e",
   "metadata": {},
   "outputs": [],
   "source": []
  },
  {
   "cell_type": "code",
   "execution_count": null,
   "id": "6f30cfbe-6bde-414c-8c8d-282b150f1df4",
   "metadata": {},
   "outputs": [],
   "source": []
  }
 ],
 "metadata": {
  "kernelspec": {
   "display_name": "Python 3",
   "language": "python",
   "name": "python3"
  },
  "language_info": {
   "codemirror_mode": {
    "name": "ipython",
    "version": 3
   },
   "file_extension": ".py",
   "mimetype": "text/x-python",
   "name": "python",
   "nbconvert_exporter": "python",
   "pygments_lexer": "ipython3",
   "version": "3.8.8"
  }
 },
 "nbformat": 4,
 "nbformat_minor": 5
}
