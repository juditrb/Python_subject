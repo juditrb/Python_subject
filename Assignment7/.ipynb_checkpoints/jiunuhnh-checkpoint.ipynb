{
 "cells": [
  {
   "cell_type": "code",
   "execution_count": 1,
   "id": "c0b13eaa-5748-4bd1-b7cf-a95398c30d81",
   "metadata": {},
   "outputs": [],
   "source": [
    "class Student:\n",
    "    pass"
   ]
  },
  {
   "cell_type": "code",
   "execution_count": 2,
   "id": "779b63e1-615f-469b-ac9d-2fef91ef066a",
   "metadata": {},
   "outputs": [
    {
     "name": "stdout",
     "output_type": "stream",
     "text": [
      "<__main__.Student object at 0x7fb7c9713670>\n"
     ]
    }
   ],
   "source": [
    "student_instance1 = Student()\n",
    "print(student_instance1)"
   ]
  },
  {
   "cell_type": "code",
   "execution_count": 7,
   "id": "5a8ab154-7812-42b7-8646-20d88ec5a703",
   "metadata": {},
   "outputs": [],
   "source": [
    "class Student():\n",
    "    def __init__(self, name, surname, NIE):\n",
    "        self.name = name\n",
    "        self.surname = surname\n",
    "        self.NIE = NIE"
   ]
  },
  {
   "cell_type": "code",
   "execution_count": 6,
   "id": "ddbe74df-e036-48d5-9c04-a0ac9de2f830",
   "metadata": {},
   "outputs": [
    {
     "name": "stdout",
     "output_type": "stream",
     "text": [
      "<__main__.Student object at 0x7fb7c9713670>\n"
     ]
    }
   ],
   "source": [
    "print(student_instance1)"
   ]
  },
  {
   "cell_type": "code",
   "execution_count": 8,
   "id": "a1b9383b-d420-486a-b09e-cf568d331831",
   "metadata": {},
   "outputs": [
    {
     "name": "stdout",
     "output_type": "stream",
     "text": [
      "140427335382688\n",
      "140427335382688\n"
     ]
    }
   ],
   "source": [
    "class Student():\n",
    "\n",
    "    def __init__(self):\n",
    "        print(id(self))\n",
    "\n",
    "s = Student()\n",
    "print(id(s))"
   ]
  },
  {
   "cell_type": "code",
   "execution_count": 9,
   "id": "111ddc59-5117-4ec8-8567-1543724c8c8b",
   "metadata": {},
   "outputs": [],
   "source": [
    "class Student(object):\n",
    "\n",
    "    def __init__(self, name, surname, NIE):\n",
    "        self.name = name\n",
    "        self.surname = surname\n",
    "        self.NIE = NIE\n",
    "\n",
    "        self.subjects = []"
   ]
  },
  {
   "cell_type": "code",
   "execution_count": null,
   "id": "9b849beb-74b3-4515-914d-84446273c8dc",
   "metadata": {},
   "outputs": [],
   "source": []
  },
  {
   "cell_type": "code",
   "execution_count": null,
   "id": "2dfce1be-1a22-44cb-9587-9a718c66bea0",
   "metadata": {},
   "outputs": [],
   "source": []
  }
 ],
 "metadata": {
  "kernelspec": {
   "display_name": "Python 3",
   "language": "python",
   "name": "python3"
  },
  "language_info": {
   "codemirror_mode": {
    "name": "ipython",
    "version": 3
   },
   "file_extension": ".py",
   "mimetype": "text/x-python",
   "name": "python",
   "nbconvert_exporter": "python",
   "pygments_lexer": "ipython3",
   "version": "3.8.8"
  }
 },
 "nbformat": 4,
 "nbformat_minor": 5
}
