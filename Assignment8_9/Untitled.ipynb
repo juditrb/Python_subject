{
 "cells": [
  {
   "cell_type": "code",
   "execution_count": 1,
   "id": "9d52178f-6576-46d6-baf5-e43f6d931d62",
   "metadata": {},
   "outputs": [],
   "source": [
    "class Cup:\n",
    "\n",
    "    def __init__(self):\n",
    "        self.content = None\n",
    "\n",
    "    def fill(self, beverage): #to be a method it starts with self\n",
    "        self.content = beverage\n",
    "\n",
    "    def get_beverage(self):\n",
    "        return self.content"
   ]
  },
  {
   "cell_type": "code",
   "execution_count": 4,
   "id": "e643b070-6291-4e4d-ad44-00b889a95563",
   "metadata": {},
   "outputs": [
    {
     "name": "stdout",
     "output_type": "stream",
     "text": [
      "Coffee\n",
      "Coffee\n"
     ]
    }
   ],
   "source": [
    "    cup_instance = Cup()\n",
    "    \n",
    "    cup_instance.fill(\"Coffee\")\n",
    "    \n",
    "    print(cup_instance.get_beverage())\n",
    "    \n",
    "    print(cup_instance.content)"
   ]
  },
  {
   "cell_type": "code",
   "execution_count": 6,
   "id": "bc39165b-a661-41cc-9a71-ff0c37b59ae6",
   "metadata": {},
   "outputs": [],
   "source": [
    "#making something private, we don't want any user accessing to this attribute here, not directly modifying this self content\n",
    "#private attribute\n",
    "class Cup:\n",
    "    def __init__(self):\n",
    "        self.__content = None # to make it private, it's necessary to use __content, some private attributes\n",
    "    def fill(self, beverage):\n",
    "        self.__content = beverage\n",
    "    def get_beverage(self):\n",
    "        return self.__content\n",
    "\n",
    "#classes defining the structure, several attributes, but we have instances, class with a specific value for each attribute (defining the state of the class)"
   ]
  },
  {
   "cell_type": "code",
   "execution_count": 9,
   "id": "76ff9671-15dd-48b3-863d-c3fd7d94a302",
   "metadata": {},
   "outputs": [
    {
     "name": "stdout",
     "output_type": "stream",
     "text": [
      "Coffee\n"
     ]
    }
   ],
   "source": [
    "    cup_instance = Cup()\n",
    "    cup_instance.fill(\"Coffee\")\n",
    "    #print(cup_instance.__content) \n",
    "\n",
    "    print(cup_instance.get_beverage())\n"
   ]
  },
  {
   "cell_type": "code",
   "execution_count": null,
   "id": "e2c212fd-4074-40aa-aff3-34d1f483c312",
   "metadata": {},
   "outputs": [],
   "source": [
    "\n",
    "\n",
    "class Protein(object):\n",
    "    aminoacid_mw = { ‘A’: 89.09, ‘C’: 121.16, ‘E’: 146.13, ... } #outside any method, amino acid molecular weight \n",
    "    \n",
    "    def __init__(self, identifier, sequence):\n",
    "        self.__identifier = str(identifier)\n",
    "        self.__sequence = sequence\n",
    "        \n",
    "    def get_mw(self):\n",
    "        return sum( self.aminoacid_mw.setdefault(aa,0) for aa in self.__sequence ) #regular attribute of the class, we can access that using this command\n",
    "    #sometimes it is dangerious and sometimes it is useful"
   ]
  },
  {
   "cell_type": "code",
   "execution_count": null,
   "id": "323c5839-fb37-4ced-9cbb-8c51341eaf57",
   "metadata": {},
   "outputs": [],
   "source": []
  }
 ],
 "metadata": {
  "kernelspec": {
   "display_name": "Python 3",
   "language": "python",
   "name": "python3"
  },
  "language_info": {
   "codemirror_mode": {
    "name": "ipython",
    "version": 3
   },
   "file_extension": ".py",
   "mimetype": "text/x-python",
   "name": "python",
   "nbconvert_exporter": "python",
   "pygments_lexer": "ipython3",
   "version": "3.8.8"
  }
 },
 "nbformat": 4,
 "nbformat_minor": 5
}
