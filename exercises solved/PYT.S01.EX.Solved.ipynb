{
 "cells": [
  {
   "cell_type": "markdown",
   "id": "556f3c91",
   "metadata": {},
   "source": [
    "# **Introduction to Python**\n",
    "\n",
    "## Session 1 Exercises\n",
    "Create a python script called `ID_exercise_block1_part1.py`\n",
    "\n",
    "\n"
   ]
  },
  {
   "cell_type": "markdown",
   "id": "49b04870",
   "metadata": {},
   "source": [
    "### **Exercise 1**:\n",
    "\n",
    "Write a function that returns a `float` corresponding to the **volume of a sphere**\n",
    "```python\n",
    "get_sphere_volume(radius)\n",
    "```\n",
    "Remember that the formula is:\n",
    "$V = \\frac{4}{3} \\pi r^3$"
   ]
  },
  {
   "cell_type": "code",
   "execution_count": 1,
   "id": "cfed3080",
   "metadata": {},
   "outputs": [],
   "source": [
    "import math\n",
    "def get_sphere_volume(radius):\n",
    "    return (4/3) * math.pi * radius**3"
   ]
  },
  {
   "cell_type": "code",
   "execution_count": 2,
   "id": "32ac1b71",
   "metadata": {},
   "outputs": [
    {
     "data": {
      "text/plain": [
       "4188.790204786391"
      ]
     },
     "execution_count": 2,
     "metadata": {},
     "output_type": "execute_result"
    }
   ],
   "source": [
    "get_sphere_volume(10)"
   ]
  },
  {
   "cell_type": "markdown",
   "id": "772f1257",
   "metadata": {},
   "source": [
    "### **Exercise 2**:\n",
    "\n",
    "Write a function that calculates and returns an `integer` corresponding to the factorial of an integer (n!):\n",
    "\n",
    "1. Using recursivity: `recursive_factorial(n)`\n",
    "2. Without using recursivity: `factorial(n)`"
   ]
  },
  {
   "cell_type": "code",
   "execution_count": 3,
   "id": "dd46951d",
   "metadata": {},
   "outputs": [],
   "source": [
    "def recursive_factorial(n):\n",
    "    \n",
    "    if n < 1:\n",
    "        return 1\n",
    "    else:\n",
    "        return n * recursive_factorial(n-1)"
   ]
  },
  {
   "cell_type": "code",
   "execution_count": 4,
   "id": "19f93f3d",
   "metadata": {},
   "outputs": [
    {
     "data": {
      "text/plain": [
       "24"
      ]
     },
     "execution_count": 4,
     "metadata": {},
     "output_type": "execute_result"
    }
   ],
   "source": [
    "recursive_factorial(4)"
   ]
  },
  {
   "cell_type": "code",
   "execution_count": 5,
   "id": "48bb1bb7",
   "metadata": {},
   "outputs": [],
   "source": [
    "def factorial(n):\n",
    "    \n",
    "    if n < 0:\n",
    "        return\n",
    "    \n",
    "    f = 1\n",
    "    while n > 0:\n",
    "        f = f * n\n",
    "        n = n - 1\n",
    "\n",
    "    return f"
   ]
  },
  {
   "cell_type": "code",
   "execution_count": 6,
   "id": "5e0ac67a",
   "metadata": {},
   "outputs": [
    {
     "data": {
      "text/plain": [
       "24"
      ]
     },
     "execution_count": 6,
     "metadata": {},
     "output_type": "execute_result"
    }
   ],
   "source": [
    "factorial(4)"
   ]
  },
  {
   "cell_type": "markdown",
   "id": "30df3ff8",
   "metadata": {},
   "source": [
    "### **Exercise 3**:\n",
    "Write a function for counting up numbers from **0** to **n**, showing the count up in the screen. \n",
    "If parameter `odd` is set to `True`, prints only odd numbers\n",
    "\n",
    "1. Using recursivity: `recursive_count_up(n, odd)`\n",
    "2. Without using recursivity: `count_up(n,odd)`\n"
   ]
  },
  {
   "cell_type": "code",
   "execution_count": 7,
   "id": "addde727",
   "metadata": {},
   "outputs": [
    {
     "name": "stdout",
     "output_type": "stream",
     "text": [
      "1\n",
      "3\n",
      "5\n",
      "7\n",
      "9\n"
     ]
    }
   ],
   "source": [
    "def recursive_count_up(n,odd):\n",
    "    \n",
    "    if n < 0:\n",
    "        return\n",
    "    \n",
    "    recursive_count_up(n-1, odd)\n",
    "    \n",
    "    if odd:\n",
    "        if n%2 != 0:\n",
    "            print(n)\n",
    "    else:\n",
    "        print(n)\n",
    "    \n",
    "recursive_count_up(10, True)"
   ]
  },
  {
   "cell_type": "code",
   "execution_count": 8,
   "id": "cc58ec50",
   "metadata": {},
   "outputs": [
    {
     "name": "stdout",
     "output_type": "stream",
     "text": [
      "0\n",
      "1\n",
      "2\n",
      "3\n",
      "4\n",
      "5\n",
      "6\n",
      "7\n",
      "8\n",
      "9\n",
      "10\n"
     ]
    }
   ],
   "source": [
    "def count_up(n,odd):\n",
    "    \n",
    "    i = 0\n",
    "    while i <= n:\n",
    "        if odd:\n",
    "            if i%2 != 0:\n",
    "                print(i)\n",
    "        else:\n",
    "            print(i)\n",
    "        \n",
    "        i += 1\n",
    "\n",
    "count_up(10, False)"
   ]
  },
  {
   "cell_type": "markdown",
   "id": "905e28f4",
   "metadata": {},
   "source": [
    "### **Exercise 4**:\n",
    "\n",
    "Find and solve the bugs in the following function:\n",
    "\n",
    "```python\n",
    "def get_final_price(discount_percentage=10, price):\n",
    "\t\"\"\"Return the final price after applying the discount percentage\"\"\"\n",
    "\treturn ((price + price) * percentage) / 100\n",
    "```"
   ]
  },
  {
   "cell_type": "code",
   "execution_count": 9,
   "id": "bb72e32c",
   "metadata": {},
   "outputs": [
    {
     "data": {
      "text/plain": [
       "90.0"
      ]
     },
     "execution_count": 9,
     "metadata": {},
     "output_type": "execute_result"
    }
   ],
   "source": [
    "def get_final_price(price, discount_percentage=10):\n",
    "    \"\"\"Return the final price after applying the discount percentage\"\"\"\n",
    "    \n",
    "    return price - price * discount_percentage / 100\n",
    "\n",
    "get_final_price(100, 10)"
   ]
  }
 ],
 "metadata": {
  "kernelspec": {
   "display_name": "eug",
   "language": "python",
   "name": "eug"
  },
  "language_info": {
   "codemirror_mode": {
    "name": "ipython",
    "version": 3
   },
   "file_extension": ".py",
   "mimetype": "text/x-python",
   "name": "python",
   "nbconvert_exporter": "python",
   "pygments_lexer": "ipython3",
   "version": "3.11.5"
  }
 },
 "nbformat": 4,
 "nbformat_minor": 5
}
