{
 "cells": [
  {
   "cell_type": "markdown",
   "id": "2b058241",
   "metadata": {},
   "source": [
    "# **Introduction to Python**"
   ]
  },
  {
   "cell_type": "markdown",
   "id": "8796d7f9",
   "metadata": {},
   "source": [
    "\n",
    "## Session 2 Exercises\n",
    "\n",
    "Create a python script called `ID_exercise_block1_part2.py`\n",
    "\n"
   ]
  },
  {
   "cell_type": "markdown",
   "id": "de90e5f5",
   "metadata": {},
   "source": [
    "#### Exercise 1\n",
    "Given a multi-line protein FASTA file **returns a float** corresponding to the ratio of proteins in the fasta file having a relative frequency **higher or equal** than a given threshold provided as an argument named `relative_threshold` and having an absolute frequency of the same residue higher or equal than a given threshold provided as an argument named `absolute_threshold` for a given residue. The function should be named as follows, with the same arguments definition:\n",
    "\n",
    "```python\n",
    "get_proteins_ratio_by_residue_threshold(filename, residue,\n",
    "                                        relative_threshold=0.03, \n",
    "                                        absolute_threshold=10)\n",
    "```\n"
   ]
  },
  {
   "cell_type": "markdown",
   "id": "784d4531",
   "metadata": {},
   "source": [
    "##### 1) Define the name of the function, the arguments and the default values of the arguments"
   ]
  },
  {
   "cell_type": "markdown",
   "id": "4a5134aa",
   "metadata": {},
   "source": [
    "def get_proteins_ratio_by_residue_threshold(filename, residue, \n",
    "                                            relative_threshold=0.03, \n",
    "                                            absolute_threshold=10):\n",
    "    pass\n",
    "    "
   ]
  },
  {
   "cell_type": "markdown",
   "id": "86e55fb8",
   "metadata": {},
   "source": [
    "##### 2) Write the documentation"
   ]
  },
  {
   "cell_type": "code",
   "execution_count": 2,
   "id": "a8fb8136",
   "metadata": {},
   "outputs": [],
   "source": [
    "def get_proteins_ratio_by_residue_threshold(filename, residue, \n",
    "                                            relative_threshold=0.03, \n",
    "                                            absolute_threshold=10):\n",
    "    \"\"\"\n",
    "    Given a protein FASTA file(filename), returns a float\n",
    "    corresponding to the ratio of protein sequences\n",
    "    having a relative and absolte frequency higher or equal than a\n",
    "    given threshold for a given residue\n",
    "    \"\"\"\n",
    "    pass\n",
    "    "
   ]
  },
  {
   "cell_type": "code",
   "execution_count": 3,
   "id": "12a81204",
   "metadata": {},
   "outputs": [
    {
     "name": "stdout",
     "output_type": "stream",
     "text": [
      "Help on function get_proteins_ratio_by_residue_threshold in module __main__:\n",
      "\n",
      "get_proteins_ratio_by_residue_threshold(filename, residue, relative_threshold=0.03, absolute_threshold=10)\n",
      "    Given a protein FASTA file(filename), returns a float\n",
      "    corresponding to the ratio of protein sequences\n",
      "    having a relative and absolte frequency higher or equal than a\n",
      "    given threshold for a given residue\n",
      "\n"
     ]
    }
   ],
   "source": [
    "help(get_proteins_ratio_by_residue_threshold)"
   ]
  },
  {
   "cell_type": "markdown",
   "id": "5c0d2424",
   "metadata": {},
   "source": [
    "##### 3) Get a file object in read mode"
   ]
  },
  {
   "cell_type": "code",
   "execution_count": 4,
   "id": "96c554da",
   "metadata": {},
   "outputs": [],
   "source": [
    "def get_proteins_ratio_by_residue_threshold(filename, residue, \n",
    "                                            relative_threshold=0.03, \n",
    "                                            absolute_threshold=10):\n",
    "    \"\"\"\n",
    "    Given a protein FASTA file(filename), returns a float\n",
    "    corresponding to the ratio of protein sequences\n",
    "    having a relative and absolte frequency higher or equal than a\n",
    "    given threshold for a given residue\n",
    "    \"\"\"\n",
    "    \n",
    "    # Read infile\n",
    "    with open(filename, \"r\") as f:\n",
    "        pass\n",
    "        "
   ]
  },
  {
   "cell_type": "markdown",
   "id": "57bbe8e4",
   "metadata": {},
   "source": [
    "##### 4) Define the object to return"
   ]
  },
  {
   "cell_type": "code",
   "execution_count": 15,
   "id": "1c74e968",
   "metadata": {},
   "outputs": [],
   "source": [
    "def get_proteins_ratio_by_residue_threshold(filename, residue, \n",
    "                                            relative_threshold=0.03, \n",
    "                                            absolute_threshold=10):\n",
    "    \"\"\"\n",
    "    Given a protein FASTA file(filename), returns a float\n",
    "    corresponding to the ratio of protein sequences\n",
    "    having a relative and absolte frequency higher or equal than a\n",
    "    given threshold for a given residue\n",
    "    \"\"\"\n",
    "    \n",
    "    total_proteins = 0\n",
    "    accepted_proteins = 0\n",
    "    \n",
    "    # Read infile\n",
    "    with open(filename, \"r\") as f:    \n",
    "        pass\n",
    "\n",
    "    if total_proteins > 0:\n",
    "        return accepted_proteins / total_protein"
   ]
  },
  {
   "cell_type": "markdown",
   "id": "c744c9f3",
   "metadata": {},
   "source": [
    "##### 5) Read the file"
   ]
  },
  {
   "cell_type": "code",
   "execution_count": 16,
   "id": "c9cfe5b9",
   "metadata": {},
   "outputs": [],
   "source": [
    "def get_proteins_ratio_by_residue_threshold(filename, residue, \n",
    "                                            relative_threshold=0.03, \n",
    "                                            absolute_threshold=10):\n",
    "    \"\"\"\n",
    "    Given a protein FASTA file(filename), returns a float\n",
    "    corresponding to the ratio of protein sequences\n",
    "    having a relative and absolte frequency higher or equal than a\n",
    "    given threshold for a given residue\n",
    "    \"\"\"\n",
    "    \n",
    "    total_proteins = 0\n",
    "    accepted_proteins = 0\n",
    "    \n",
    "    # Read infile\n",
    "    with open(filename, \"r\") as f:    \n",
    "        for line in f:\n",
    "            pass\n",
    "\n",
    "    if total_proteins > 0:\n",
    "        return accepted_proteins / total_protein"
   ]
  },
  {
   "cell_type": "markdown",
   "id": "5150d2d2",
   "metadata": {},
   "source": [
    "##### 6) Add the conditons"
   ]
  },
  {
   "cell_type": "code",
   "execution_count": 26,
   "id": "d68e2d18",
   "metadata": {},
   "outputs": [],
   "source": [
    "def get_proteins_ratio_by_residue_threshold(filename, residue, \n",
    "                                            relative_threshold=0.03, \n",
    "                                            absolute_threshold=10):\n",
    "    \"\"\"\n",
    "    Given a protein FASTA file(filename), returns a float\n",
    "    corresponding to the ratio of protein sequences\n",
    "    having a relative and absolte frequency higher or equal than a\n",
    "    given threshold for a given residue\n",
    "    \"\"\"\n",
    "    \n",
    "    total_proteins = 0\n",
    "    accepted_proteins = 0\n",
    "    sequence = \"\"\n",
    "    \n",
    "    # Read infile\n",
    "    with open(filename, \"r\") as f:    \n",
    "       \n",
    "        for line in f:\n",
    "            \n",
    "            # Start of sequence\n",
    "            if line[0] == \">\":\n",
    "                total_proteins += 1\n",
    "\n",
    "                if (len(sequence) > 0 and \n",
    "                    sequence.count(residue) >= absolute_threshold and \n",
    "                    sequence.count(residue) / len(sequence) >= relative_threshold):\n",
    "                \n",
    "                    accepted_proteins += 1\n",
    "                   \n",
    "                sequence = \"\"\n",
    "                \n",
    "            else:\n",
    "                sequence += line.strip()\n",
    "\n",
    "    if total_proteins > 0:\n",
    "        return accepted_proteins / total_proteins"
   ]
  },
  {
   "cell_type": "markdown",
   "id": "b136ebf0",
   "metadata": {},
   "source": [
    "##### 7) Include the last protein"
   ]
  },
  {
   "cell_type": "code",
   "execution_count": 17,
   "id": "fd404b60",
   "metadata": {},
   "outputs": [],
   "source": [
    "def get_proteins_ratio_by_residue_threshold(filename, residue, \n",
    "                                            relative_threshold=0.03, \n",
    "                                            absolute_threshold=10):\n",
    "    \"\"\"\n",
    "    Given a protein FASTA file(filename), returns a float\n",
    "    corresponding to the ratio of protein sequences\n",
    "    having a relative and absolte frequency higher or equal than a\n",
    "    given threshold for a given residue\n",
    "    \"\"\"\n",
    "    \n",
    "    total_proteins = 0\n",
    "    accepted_proteins = 0\n",
    "    sequence = \"\"\n",
    "    \n",
    "    # Read infile\n",
    "    with open(filename, \"r\") as f:    \n",
    "       \n",
    "        for line in f:\n",
    "            \n",
    "            # Start of sequence\n",
    "            if line[0] == \">\":\n",
    "                total_proteins += 1\n",
    "\n",
    "                if (len(sequence) > 0 and \n",
    "                    sequence.count(residue) >= absolute_threshold and \n",
    "                    sequence.count(residue) / len(sequence) >= relative_threshold):\n",
    "                \n",
    "                    accepted_proteins += 1\n",
    "                   \n",
    "                sequence = \"\"\n",
    "                \n",
    "            else:\n",
    "                sequence += line.strip()\n",
    "    \n",
    "    if (len(sequence) > 0 and \n",
    "                    sequence.count(residue) >= absolute_threshold and \n",
    "                    sequence.count(residue) / len(sequence) >= relative_threshold):\n",
    "                \n",
    "                    accepted_proteins += 1\n",
    "\n",
    "    if total_proteins > 0:\n",
    "        return accepted_proteins / total_proteins"
   ]
  },
  {
   "cell_type": "markdown",
   "id": "3e9b06e5",
   "metadata": {},
   "source": [
    "##### Variations"
   ]
  },
  {
   "cell_type": "code",
   "execution_count": 47,
   "id": "29f9778f",
   "metadata": {},
   "outputs": [
    {
     "name": "stdout",
     "output_type": "stream",
     "text": [
      "True\n",
      "True\n",
      "True\n",
      "True\n"
     ]
    }
   ],
   "source": [
    "line = \">P22833\\n\"\n",
    "\n",
    "print(line[0] == \">\")\n",
    "print(line.startswith(\">\"))\n",
    "print(line.find(\">\") == 0)\n",
    "print(line.index(\">\") == 0)"
   ]
  },
  {
   "cell_type": "code",
   "execution_count": 52,
   "id": "e781fb15",
   "metadata": {},
   "outputs": [
    {
     "name": "stdout",
     "output_type": "stream",
     "text": [
      "1\n",
      "2\n"
     ]
    }
   ],
   "source": [
    "accepted_proteins = 0\n",
    "\n",
    "accepted_proteins += 1\n",
    "print(accepted_proteins)\n",
    "\n",
    "accepted_proteins = accepted_proteins + 1\n",
    "print(accepted_proteins)"
   ]
  },
  {
   "cell_type": "code",
   "execution_count": 18,
   "id": "d248f159",
   "metadata": {},
   "outputs": [
    {
     "data": {
      "text/plain": [
       "0.6274509803921569"
      ]
     },
     "execution_count": 18,
     "metadata": {},
     "output_type": "execute_result"
    }
   ],
   "source": [
    "get_proteins_ratio_by_residue_threshold(\"data/example_fasta_file.fa\", \"S\", 0.01, 50)"
   ]
  },
  {
   "cell_type": "markdown",
   "id": "306e4089",
   "metadata": {},
   "source": [
    "#### Exercise 2\n",
    "Given a protein FASTA file (filename), save on a output file named output_filename the protein identifier, the first N-aminoacids, the last M-aminoacids and the absolute frequency in the protein of all the aminoacids found in the protein (the aminoacids that do not appear in the protein should not be shown). The fields must be separated by a tabulator, and one protein by line.\n",
    "```python\n",
    "print_sequence_summary(filename,\n",
    "                       output_filename,\n",
    "                       first_n=10, \n",
    "                       last_m=10)\n",
    "\n",
    "```\n"
   ]
  },
  {
   "cell_type": "code",
   "execution_count": 20,
   "id": "f4d11c45",
   "metadata": {},
   "outputs": [],
   "source": [
    "def print_sequence_summary(filename, output_filename, first_n=10, last_m=10):\n",
    "    \"\"\"\n",
    "    Given a protein FASTA file (filename), \n",
    "    save on a output file named output_filename the protein identifier, \n",
    "    the first N-aminoacids, \n",
    "    the last M-aminoacids \n",
    "    and the absolute frequency in the protein of all the aminoacids found in the protein\n",
    "    \"\"\"\n",
    "    \n",
    "    fd = open(filename)\n",
    "    ofd = open(output_filename, \"w\")\n",
    "    \n",
    "    cseq = \"\"\n",
    "    identifier = \"\"\n",
    "    \n",
    "    for line in fd:\n",
    "        \n",
    "        if line[0] == \">\":\n",
    "\n",
    "            if len(cseq) > 0:\n",
    "                \n",
    "                done_aminoacids = \"\"\n",
    "                aminoacid_frequencies = \"\"\n",
    "                counts = \"\"\n",
    "                \n",
    "                for aminoacid in cseq:\n",
    "                    if aminoacid not in done_aminoacids:\n",
    "                        counts += \"%s:%s,\" %(aminoacid, cseq.count(aminoacid))\n",
    "                        done_aminoacids += aminoacid\n",
    "                \n",
    "                ofd.write(\"%s\\t%s\\t%s\\t%s\\n\" %(identifier, \n",
    "                                               cseq[:first_n], \n",
    "                                               cseq[-last_m:], \n",
    "                                               counts.strip(\",\"))) \n",
    "            cseq = \"\"\n",
    "            identifier = line[1:].strip()\n",
    "            \n",
    "        else:\n",
    "            cseq += line.strip()\n",
    "    \n",
    "    if len(cseq) > 0:\n",
    "\n",
    "        done_aminoacids = \"\"\n",
    "        aminoacid_frequencies = \"\"\n",
    "        counts = \"\"\n",
    "\n",
    "        for aminoacid in cseq:\n",
    "            if aminoacid not in done_aminoacids:\n",
    "                counts += \"%s:%s,\" %(aminoacid, cseq.count(aminoacid))\n",
    "                done_aminoacids += aminoacid\n",
    "\n",
    "        ofd.write(\"%s\\t%s\\t%s\\t%s\\n\" %(identifier, \n",
    "                                       cseq[:first_n], \n",
    "                                       cseq[-last_m:], \n",
    "                                       counts.strip(\",\")))\n",
    "\n",
    "\n",
    "    fd.close()\n",
    "    ofd.close()\n",
    "    "
   ]
  },
  {
   "cell_type": "code",
   "execution_count": 22,
   "id": "e6cb5c70",
   "metadata": {},
   "outputs": [],
   "source": [
    "print_sequence_summary(\"data/example_fasta_file.fa\", \"summary.txt\")"
   ]
  }
 ],
 "metadata": {
  "kernelspec": {
   "display_name": "eug",
   "language": "python",
   "name": "eug"
  },
  "language_info": {
   "codemirror_mode": {
    "name": "ipython",
    "version": 3
   },
   "file_extension": ".py",
   "mimetype": "text/x-python",
   "name": "python",
   "nbconvert_exporter": "python",
   "pygments_lexer": "ipython3",
   "version": "3.11.5"
  }
 },
 "nbformat": 4,
 "nbformat_minor": 5
}
