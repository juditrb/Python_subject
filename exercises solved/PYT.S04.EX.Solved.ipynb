{
 "cells": [
  {
   "cell_type": "markdown",
   "id": "df335833",
   "metadata": {},
   "source": [
    "# **Introduction to Python**"
   ]
  },
  {
   "cell_type": "markdown",
   "id": "8e5ca4ec",
   "metadata": {},
   "source": [
    "\n",
    "## Session 4 Exercises\n",
    "\n",
    "Create a python script called `ID_exercise_block1_part4.py`\n",
    "\n"
   ]
  },
  {
   "cell_type": "markdown",
   "id": "70cb5daf",
   "metadata": {},
   "source": [
    "#### Exercise 1\n",
    "A **Generator Function** that reads a Fasta file. \n",
    "In each iteration, the function must return a tuple with the following format: (identifier, sequence). \n",
    "\n",
    "```python\n",
    "FASTA_iterator(fasta_filename)\n",
    "```\n"
   ]
  },
  {
   "cell_type": "code",
   "execution_count": 1,
   "id": "d1d95c82",
   "metadata": {},
   "outputs": [],
   "source": [
    "def FASTA_iterator(fasta_filename):\n",
    "    \"\"\"\n",
    "    Generator function to read multiline fasta files\n",
    "    \n",
    "    Yield a tuple (id, sequence) for each sequence in the FASTA file\n",
    "    \"\"\"\n",
    "    \n",
    "    fd = open(fasta_filename)\n",
    "    \n",
    "    sequence = \"\"\n",
    "    \n",
    "    for line in fd:\n",
    "        \n",
    "        if line[0] == \">\":\n",
    "           \n",
    "            if len(sequence)>0:\n",
    "                yield((identifier, sequence))\n",
    "            \n",
    "            sequence = \"\"\n",
    "            identifier = line[1:].strip()\n",
    "        \n",
    "        else:\n",
    "            sequence += line.strip()\n",
    "    \n",
    "    if len(sequence)>0:\n",
    "        yield((identifier, sequence))\n",
    "    \n",
    "    fd.close()"
   ]
  },
  {
   "cell_type": "code",
   "execution_count": 2,
   "id": "3557bdc0",
   "metadata": {},
   "outputs": [
    {
     "data": {
      "text/plain": [
       "<generator object FASTA_iterator at 0x7fcd4f496350>"
      ]
     },
     "execution_count": 2,
     "metadata": {},
     "output_type": "execute_result"
    }
   ],
   "source": [
    "FASTA_iterator(\"example_fasta_file.fa\")"
   ]
  },
  {
   "cell_type": "code",
   "execution_count": 3,
   "id": "a2ec5d05",
   "metadata": {},
   "outputs": [
    {
     "name": "stdout",
     "output_type": "stream",
     "text": [
      "Q8WZ42 34350\n",
      "Q5S007 2527\n",
      "P00533 1210\n",
      "A2ASS6 35213\n",
      "P10721 976\n",
      "P21802 821\n",
      "P31749 480\n",
      "P11362 822\n",
      "P06213 1382\n",
      "P09619 1106\n",
      "P35968 1356\n",
      "P12931 536\n",
      "P08581 1390\n",
      "P04626 1255\n",
      "P17948 1338\n",
      "P16234 1089\n",
      "P07949 1114\n",
      "Q9NYL2 800\n",
      "P22607 806\n",
      "P00519 1130\n",
      "P53350 603\n",
      "P35916 1363\n",
      "P53355 1430\n",
      "P29320 983\n",
      "Q9BXM7 581\n",
      "Q02763 1124\n",
      "P27361 379\n",
      "P53779 464\n",
      "P47811 360\n",
      "Q96JB8 637\n",
      "Q16659 721\n",
      "Q8NB16 471\n",
      "Q02750 393\n",
      "P29678 393\n",
      "P46734 347\n",
      "Q4KSH7 419\n",
      "O54874 1732\n",
      "Q6DT37 1551\n",
      "P47809 397\n",
      "Q9NZW5 540\n",
      "Q5T2T1 576\n",
      "Q8CE90 535\n",
      "P52564 334\n",
      "Q9Y5S2 1711\n",
      "Q5VT25 1732\n",
      "Q32MK0 819\n",
      "Q9H1R3 596\n",
      "Q8WXR4 1341\n",
      "A8C984 715\n",
      "Q15746 1914\n",
      "Q8K3H5 900\n"
     ]
    },
    {
     "data": {
      "text/plain": [
       "51"
      ]
     },
     "execution_count": 3,
     "metadata": {},
     "output_type": "execute_result"
    }
   ],
   "source": [
    "n = 0\n",
    "for id, sequence in FASTA_iterator(\"example_fasta_file.fa\"):\n",
    "    print(id, len(sequence))\n",
    "    n +=1\n",
    "n\n",
    "    "
   ]
  },
  {
   "cell_type": "markdown",
   "id": "3eafe884",
   "metadata": {},
   "source": [
    "#### Exercise 2\n",
    "\n",
    "Given a list of FASTA files, create a function that **returns a dictionary** that contains the 4 \n",
    "following keys with the associated values:\n",
    "\n",
    "- `intersection` : a **set** with the common identifiers found in all the files.\n",
    "\n",
    "- `union`: a **set** with all the identifiers (unique) found in all the files.\n",
    "\n",
    "- `frequency`: a **dictionary** with all the identifiers as keys and the number of files in which it appears as values (int)\n",
    "\n",
    "- `specific`: a **dictionary** with the name of the input files as keys and a set with the specific identifiers as values (i.e. identifiers that are exclusive in that fasta file)\n",
    "\n",
    "> Note 1: Common identifier equivalence must be case-insensitive (i.e. Code_A,code_a and CODE_A are equivalents).\n",
    "\n",
    "> Note 2: It must use the FASTA_iterator function created in exercise 1. \n",
    ", the function must return a tuple with the following format: (identifier, sequence). \n",
    "\n",
    "```python\n",
    "compare_fasta_file_identifiers(fasta_filenames_list)\n",
    "```"
   ]
  },
  {
   "cell_type": "code",
   "execution_count": 4,
   "id": "0e8e197f",
   "metadata": {},
   "outputs": [],
   "source": [
    "def compare_fasta_file_identifiers(fasta_filenames_list):\n",
    "\n",
    "    ids_dict = {}\n",
    "    \n",
    "    return_dict = {}\n",
    "    \n",
    "    for fasta_file in fasta_filenames_list:\n",
    "        ids_dict[fasta_file] = set()\n",
    "        \n",
    "        for seq_id, sequence in FASTA_iterator(fasta_file):\n",
    "            ids_dict[fasta_file].add(seq_id)\n",
    "            \n",
    "        return_dict.setdefault(\"intersection\", set(ids_dict[fasta_file])).intersection_update(ids_dict[fasta_file])\n",
    "        return_dict.setdefault(\"union\", set()).update(ids_dict[fasta_file])\n",
    "        \n",
    "    frequencies = {}\n",
    "    specific = {}\n",
    "    \n",
    "    for fasta_file, ids_set in ids_dict.items():\n",
    "        for seq_id in ids_set:\n",
    "            if seq_id not in frequencies:\n",
    "                frequencies[seq_id] = 0\n",
    "            frequencies[seq_id] += 1\n",
    "        \n",
    "        specific[fasta_file] = ids_set.copy()    \n",
    "        for other_fasta_file, other_ids_set in ids_dict.items():\n",
    "            if other_fasta_file != fasta_file:\n",
    "                specific[fasta_file].difference_update(other_ids_set)\n",
    "    \n",
    "    return_dict[\"frequency\"] = frequencies\n",
    "    return_dict[\"specific\"]  = specific\n",
    "    \n",
    "    return return_dict"
   ]
  },
  {
   "cell_type": "code",
   "execution_count": 5,
   "id": "95aad795",
   "metadata": {},
   "outputs": [],
   "source": [
    "info = compare_fasta_file_identifiers([\n",
    "    \"uniprot_sprot_sample.fasta\",\n",
    "    \"uniprot_sprot_sample2.fasta\",\n",
    "    \"uniprot_sprot_sample3.fasta\"])"
   ]
  },
  {
   "cell_type": "code",
   "execution_count": 6,
   "id": "838fbc53",
   "metadata": {},
   "outputs": [
    {
     "data": {
      "text/plain": [
       "dict_keys(['intersection', 'union', 'frequency', 'specific'])"
      ]
     },
     "execution_count": 6,
     "metadata": {},
     "output_type": "execute_result"
    }
   ],
   "source": [
    "info.keys()"
   ]
  },
  {
   "cell_type": "code",
   "execution_count": 7,
   "id": "d1069f6a",
   "metadata": {},
   "outputs": [
    {
     "data": {
      "text/plain": [
       "[('intersection', set, 490),\n",
       " ('union', set, 504),\n",
       " ('frequency', dict, 504),\n",
       " ('specific', dict, 3)]"
      ]
     },
     "execution_count": 7,
     "metadata": {},
     "output_type": "execute_result"
    }
   ],
   "source": [
    "[(k, type(info[k]), len(info[k])) for k in info.keys()]"
   ]
  },
  {
   "cell_type": "code",
   "execution_count": 8,
   "id": "ad2da30a",
   "metadata": {},
   "outputs": [],
   "source": [
    "def compare_fasta_file_identifiers_v2( fasta_filenames_list ):\n",
    "\n",
    "    ids_dict = {}\n",
    "    \n",
    "    return_dict = {}\n",
    "    \n",
    "    frequencies = {}\n",
    "    \n",
    "    for fasta_file in fasta_filenames_list:\n",
    "        ids_dict[fasta_file] = set()\n",
    "        \n",
    "        for seq_id, sequence in FASTA_iterator(fasta_file):\n",
    "            ids_dict[fasta_file].add(seq_id)\n",
    "            \n",
    "        return_dict.setdefault(\"intersection\", set(ids_dict[fasta_file])).intersection_update(ids_dict[fasta_file])\n",
    "        return_dict.setdefault(\"specific\", {}).setdefault(fasta_file, ids_dict[fasta_file].copy()).difference_update(return_dict.setdefault(\"union\", set()))\n",
    "        return_dict.setdefault(\"union\", set()).update(ids_dict[fasta_file])\n",
    "        frequencies.update(dict(((seq_id, frequencies.setdefault(seq_id, 0)+1) for seq_id in ids_dict[fasta_file])))\n",
    "    \n",
    "\n",
    "    return_dict[\"frequency\"] = frequencies\n",
    "\n",
    "    return return_dict\n"
   ]
  }
 ],
 "metadata": {
  "kernelspec": {
   "display_name": "Python 3 (ipykernel)",
   "language": "python",
   "name": "python3"
  },
  "language_info": {
   "codemirror_mode": {
    "name": "ipython",
    "version": 3
   },
   "file_extension": ".py",
   "mimetype": "text/x-python",
   "name": "python",
   "nbconvert_exporter": "python",
   "pygments_lexer": "ipython3",
   "version": "3.11.5"
  }
 },
 "nbformat": 4,
 "nbformat_minor": 5
}
